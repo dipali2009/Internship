{
 "cells": [
  {
   "cell_type": "markdown",
   "id": "cf3decff",
   "metadata": {},
   "source": [
    "# Q1. Write SQL query to create table Customers"
   ]
  },
  {
   "cell_type": "code",
   "execution_count": 9,
   "id": "4b254f78",
   "metadata": {},
   "outputs": [],
   "source": [
    "import sqlite3\n",
    "\n",
    "db = sqlite3.connect(\"customer_database.db\")"
   ]
  },
  {
   "cell_type": "code",
   "execution_count": 10,
   "id": "2a30c011",
   "metadata": {},
   "outputs": [],
   "source": [
    "cursor = db.cursor()"
   ]
  },
  {
   "cell_type": "code",
   "execution_count": 13,
   "id": "a061ffe6",
   "metadata": {},
   "outputs": [
    {
     "data": {
      "text/plain": [
       "<sqlite3.Cursor at 0x18f377c8650>"
      ]
     },
     "execution_count": 13,
     "metadata": {},
     "output_type": "execute_result"
    }
   ],
   "source": [
    "cursor.execute(\"CREATE TABLE customer_database(customer_number INT PRIMARY KEY, customer_name TEXT, contactLastName TEXT, ContactFirstName, TEXT, phone INT, addressLine1 TEXT, addressLine2 TEXT, city TEXT, state TEXT, postalcode INT, salesRepEmployeeNumber INT, creditlimit INT )\")"
   ]
  },
  {
   "cell_type": "markdown",
   "id": "7666d507",
   "metadata": {},
   "source": [
    "# Q2. Write SQL query to create table orders"
   ]
  },
  {
   "cell_type": "code",
   "execution_count": 22,
   "id": "afcdb943",
   "metadata": {},
   "outputs": [
    {
     "data": {
      "text/plain": [
       "<sqlite3.Cursor at 0x18f377c8650>"
      ]
     },
     "execution_count": 22,
     "metadata": {},
     "output_type": "execute_result"
    }
   ],
   "source": [
    "cursor.execute(\"CREATE TABLE orders(orderNumbers INT, orderDate DATE, requiredDate DATE, shippedDate DATE, status TEXT, comments TEXT, customerNumber INT)\")"
   ]
  },
  {
   "cell_type": "markdown",
   "id": "9b3b623e",
   "metadata": {},
   "source": [
    "# Q3. Write SQL query to show all the columns data from the Orders Table"
   ]
  },
  {
   "cell_type": "code",
   "execution_count": 23,
   "id": "c56d3057",
   "metadata": {},
   "outputs": [],
   "source": [
    "result = cursor.execute(\"SELECT * FROM orders\")\n",
    "for row in result:\n",
    "    print(row)"
   ]
  },
  {
   "cell_type": "markdown",
   "id": "2c6bd9a5",
   "metadata": {},
   "source": [
    "# Q4.Write SQL query to show all the comments from the OrdersTable"
   ]
  },
  {
   "cell_type": "code",
   "execution_count": 24,
   "id": "28dbdf21",
   "metadata": {},
   "outputs": [],
   "source": [
    "result = cursor.execute(\"SELECT * FROM orders\")\n",
    "for row in result:\n",
    "    print(row)"
   ]
  },
  {
   "cell_type": "markdown",
   "id": "85b8d328",
   "metadata": {},
   "source": [
    "# Q5.Write a SQL query to show orderDate and Total number of orders placed on that date, from Orderstable"
   ]
  },
  {
   "cell_type": "code",
   "execution_count": 35,
   "id": "432aa097",
   "metadata": {},
   "outputs": [],
   "source": [
    "result = cursor.execute(\"SELECT COUNT(orderNumbers), orderDate FROM orders\")"
   ]
  },
  {
   "cell_type": "markdown",
   "id": "53f49d03",
   "metadata": {},
   "source": [
    "# Q.6 Write a SQL query to show employeNumber, lastName, firstName of all the employees from employees table"
   ]
  },
  {
   "cell_type": "code",
   "execution_count": 26,
   "id": "678ca3bf",
   "metadata": {},
   "outputs": [
    {
     "data": {
      "text/plain": [
       "<sqlite3.Cursor at 0x18f377c8650>"
      ]
     },
     "execution_count": 26,
     "metadata": {},
     "output_type": "execute_result"
    }
   ],
   "source": [
    "cursor.execute(\"CREATE TABLE employees(employeeNumbers INT, lastName TEXT, firstName TEXT, extension INT, email TEXT, officeCode INT, reportsTo TEXT, jobTitle TEXT)\")"
   ]
  },
  {
   "cell_type": "code",
   "execution_count": 28,
   "id": "d3a3b559",
   "metadata": {},
   "outputs": [],
   "source": [
    "result = cursor.execute(\"SELECT employeeNumbers, lastName FROM employees\")\n",
    "for row in result:\n",
    "    print(row)"
   ]
  },
  {
   "cell_type": "markdown",
   "id": "0a6bdbb0",
   "metadata": {},
   "source": [
    "# Q.7. Write a SQL query to show all orderNumber, customerName of the person who placed the respective order"
   ]
  },
  {
   "cell_type": "code",
   "execution_count": 45,
   "id": "58a574d2",
   "metadata": {},
   "outputs": [],
   "source": [
    "result = cursor.execute (\"SELECT orderNumbers, customer_Name FROM orders, customer_database WHERE orderNumbers = customer_Name\")"
   ]
  },
  {
   "cell_type": "markdown",
   "id": "07a716dd",
   "metadata": {},
   "source": [
    "# Q.8 Write a SQL query to show name of all the customers in one column and salerepemployee name inanother column.\n"
   ]
  },
  {
   "cell_type": "markdown",
   "id": "e449e031",
   "metadata": {},
   "source": [
    "# Q.9 Write a SQL query to show Date in one column and total payment amount of the payments made on that date from the payments table."
   ]
  },
  {
   "cell_type": "code",
   "execution_count": null,
   "id": "5262993b",
   "metadata": {},
   "outputs": [],
   "source": []
  }
 ],
 "metadata": {
  "kernelspec": {
   "display_name": "Python 3",
   "language": "python",
   "name": "python3"
  },
  "language_info": {
   "codemirror_mode": {
    "name": "ipython",
    "version": 3
   },
   "file_extension": ".py",
   "mimetype": "text/x-python",
   "name": "python",
   "nbconvert_exporter": "python",
   "pygments_lexer": "ipython3",
   "version": "3.8.8"
  }
 },
 "nbformat": 4,
 "nbformat_minor": 5
}
