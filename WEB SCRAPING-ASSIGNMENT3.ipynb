{
 "cells": [
  {
   "cell_type": "markdown",
   "id": "b0cedf5b",
   "metadata": {},
   "source": [
    "# Write a python program which searches all the product under a particular product from www.amazon.in. The product to be searched will be taken as input from user. For e.g. If user input is ‘guitar’. Then search for guitars."
   ]
  },
  {
   "cell_type": "code",
   "execution_count": 1,
   "id": "afed2f42",
   "metadata": {},
   "outputs": [
    {
     "name": "stdout",
     "output_type": "stream",
     "text": [
      "Requirement already satisfied: selenium in c:\\users\\acer\\anaconda3\\lib\\site-packages (4.1.3)\n",
      "Requirement already satisfied: trio~=0.17 in c:\\users\\acer\\anaconda3\\lib\\site-packages (from selenium) (0.20.0)\n",
      "Requirement already satisfied: urllib3[secure,socks]~=1.26 in c:\\users\\acer\\anaconda3\\lib\\site-packages (from selenium) (1.26.4)\n",
      "Requirement already satisfied: trio-websocket~=0.9 in c:\\users\\acer\\anaconda3\\lib\\site-packages (from selenium) (0.9.2)\n",
      "Requirement already satisfied: sniffio in c:\\users\\acer\\anaconda3\\lib\\site-packages (from trio~=0.17->selenium) (1.2.0)\n",
      "Requirement already satisfied: attrs>=19.2.0 in c:\\users\\acer\\anaconda3\\lib\\site-packages (from trio~=0.17->selenium) (20.3.0)\n",
      "Requirement already satisfied: cffi>=1.14 in c:\\users\\acer\\anaconda3\\lib\\site-packages (from trio~=0.17->selenium) (1.14.5)\n",
      "Requirement already satisfied: sortedcontainers in c:\\users\\acer\\anaconda3\\lib\\site-packages (from trio~=0.17->selenium) (2.3.0)\n",
      "Requirement already satisfied: async-generator>=1.9 in c:\\users\\acer\\anaconda3\\lib\\site-packages (from trio~=0.17->selenium) (1.10)\n",
      "Requirement already satisfied: idna in c:\\users\\acer\\anaconda3\\lib\\site-packages (from trio~=0.17->selenium) (2.10)\n",
      "Requirement already satisfied: outcome in c:\\users\\acer\\anaconda3\\lib\\site-packages (from trio~=0.17->selenium) (1.1.0)\n",
      "Requirement already satisfied: pycparser in c:\\users\\acer\\anaconda3\\lib\\site-packages (from cffi>=1.14->trio~=0.17->selenium) (2.20)\n",
      "Requirement already satisfied: wsproto>=0.14 in c:\\users\\acer\\anaconda3\\lib\\site-packages (from trio-websocket~=0.9->selenium) (1.1.0)\n",
      "Requirement already satisfied: certifi in c:\\users\\acer\\anaconda3\\lib\\site-packages (from urllib3[secure,socks]~=1.26->selenium) (2020.12.5)\n",
      "Requirement already satisfied: pyOpenSSL>=0.14 in c:\\users\\acer\\anaconda3\\lib\\site-packages (from urllib3[secure,socks]~=1.26->selenium) (20.0.1)\n",
      "Requirement already satisfied: cryptography>=1.3.4 in c:\\users\\acer\\anaconda3\\lib\\site-packages (from urllib3[secure,socks]~=1.26->selenium) (3.4.7)\n",
      "Requirement already satisfied: PySocks!=1.5.7,<2.0,>=1.5.6 in c:\\users\\acer\\anaconda3\\lib\\site-packages (from urllib3[secure,socks]~=1.26->selenium) (1.7.1)\n",
      "Requirement already satisfied: six>=1.5.2 in c:\\users\\acer\\anaconda3\\lib\\site-packages (from pyOpenSSL>=0.14->urllib3[secure,socks]~=1.26->selenium) (1.15.0)\n",
      "Requirement already satisfied: h11<1,>=0.9.0 in c:\\users\\acer\\anaconda3\\lib\\site-packages (from wsproto>=0.14->trio-websocket~=0.9->selenium) (0.13.0)\n"
     ]
    }
   ],
   "source": [
    "!pip install selenium"
   ]
  },
  {
   "cell_type": "code",
   "execution_count": 2,
   "id": "f6a2f1f1",
   "metadata": {},
   "outputs": [],
   "source": [
    "import selenium\n",
    "import pandas as pd\n",
    "import numpy as np\n",
    "from selenium import webdriver\n",
    "from selenium.webdriver.common.by import By\n",
    "\n",
    "import warnings\n",
    "warnings.filterwarnings('ignore')\n",
    "\n",
    "from selenium.webdriver.support.ui import WebDriverWait\n",
    "from selenium.webdriver.common.by import By\n",
    "from selenium.webdriver.support import expected_conditions as EC\n",
    "from selenium.common.exceptions import StaleElementReferenceException, NoSuchElementException\n",
    "\n",
    "#importing request\n",
    "import requests\n",
    "\n",
    "#importing regex\n",
    "import re\n",
    "\n",
    "import time\n",
    "\n",
    "from bs4 import BeautifulSoup"
   ]
  },
  {
   "cell_type": "code",
   "execution_count": 6,
   "id": "c75c7965",
   "metadata": {},
   "outputs": [],
   "source": [
    "driver=webdriver.Chrome(r'C:\\Users\\Acer\\Downloads\\chromedriver_win32\\chromedriver.exe')"
   ]
  },
  {
   "cell_type": "code",
   "execution_count": 8,
   "id": "b5f2df03",
   "metadata": {},
   "outputs": [],
   "source": [
    "from selenium import webdriver\n",
    "from selenium.common.exceptions import StaleElementReferenceException \n",
    "from selenium.webdriver.support.ui import WebDriverWait\n",
    "from selenium.webdriver.support import expected_conditions as EC\n",
    "from selenium.webdriver.common.by import By"
   ]
  },
  {
   "cell_type": "code",
   "execution_count": 7,
   "id": "547b7252",
   "metadata": {},
   "outputs": [],
   "source": [
    "url='https://www.amazon.in/'\n",
    "driver.get(url)"
   ]
  },
  {
   "cell_type": "code",
   "execution_count": 8,
   "id": "4638c8ab",
   "metadata": {},
   "outputs": [
    {
     "data": {
      "text/plain": [
       "<selenium.webdriver.remote.webelement.WebElement (session=\"ee3086b76941bbb9d63eaa0068d3389c\", element=\"62474911-358f-4d28-b681-a072a68498b7\")>"
      ]
     },
     "execution_count": 8,
     "metadata": {},
     "output_type": "execute_result"
    }
   ],
   "source": [
    "#finding web element search item bar\n",
    "search_item=driver.find_element(By.XPATH,'/html/body/div[1]/header/div/div[1]/div[2]/div/form/div[2]/div[1]/input')\n",
    "search_item"
   ]
  },
  {
   "cell_type": "code",
   "execution_count": 9,
   "id": "1ebb1093",
   "metadata": {},
   "outputs": [
    {
     "name": "stdout",
     "output_type": "stream",
     "text": [
      "Enter name of the product :\n",
      "\n",
      "laptop\n",
      "laptop\n"
     ]
    }
   ],
   "source": [
    "# Taking input from user.\n",
    "print(\"Enter name of the product :\\n\")\n",
    "item_abc=input()\n",
    "\n",
    "print(item_abc)"
   ]
  },
  {
   "cell_type": "code",
   "execution_count": 10,
   "id": "6e975fd5",
   "metadata": {},
   "outputs": [],
   "source": [
    "#writing the product in  the search bar\n",
    "\n",
    "search_item.send_keys(item_abc)"
   ]
  },
  {
   "cell_type": "code",
   "execution_count": 11,
   "id": "83617f0e",
   "metadata": {},
   "outputs": [
    {
     "data": {
      "text/plain": [
       "<selenium.webdriver.remote.webelement.WebElement (session=\"ee3086b76941bbb9d63eaa0068d3389c\", element=\"ea44b18c-5de3-423c-b4d9-0358fb8ed57a\")>"
      ]
     },
     "execution_count": 11,
     "metadata": {},
     "output_type": "execute_result"
    }
   ],
   "source": [
    "#finding the web element for search icon\n",
    "srch_icon=driver.find_element(By.XPATH, '/html/body/div[1]/header/div/div[1]/div[2]/div/form/div[3]/div/span/input')\n",
    "srch_icon"
   ]
  },
  {
   "cell_type": "code",
   "execution_count": 12,
   "id": "96f4e277",
   "metadata": {},
   "outputs": [],
   "source": [
    "srch_icon.click()"
   ]
  },
  {
   "cell_type": "markdown",
   "id": "17691d6d",
   "metadata": {},
   "source": [
    "Q2) In the above question, now scrape the following details of each product listed in first 3 pages of your \n",
    "search results and save it in a data frame and csv. In case if any product has less than 3 pages in search \n",
    "results then scrape all the products available under that product name. Details to be scraped are: \"Brand \n",
    "Name\", \"Name of the Product\", \"Price\", \"Return/Exchange\", \"Expected Delivery\", \"Availability\" and \n",
    "“Product URL”. In case, if any of the details are missing for any of the product then replace it by “-“."
   ]
  },
  {
   "cell_type": "code",
   "execution_count": 13,
   "id": "a1824429",
   "metadata": {},
   "outputs": [
    {
     "data": {
      "text/plain": [
       "25"
      ]
     },
     "execution_count": 13,
     "metadata": {},
     "output_type": "execute_result"
    }
   ],
   "source": [
    "# scraping brand name/title for the Product.\n",
    "\n",
    "title_tag=driver.find_elements(By.XPATH, '//h2[@class=\"a-size-mini a-spacing-none a-color-base s-line-clamp-2\"]')\n",
    "#Creating empty list to store the scrape data\n",
    "title=[]\n",
    "for i in title_tag:\n",
    "    title.append(i.text)\n",
    "title\n",
    "len(title)"
   ]
  },
  {
   "cell_type": "code",
   "execution_count": 14,
   "id": "100f3d4f",
   "metadata": {},
   "outputs": [
    {
     "data": {
      "text/plain": [
       "32"
      ]
     },
     "execution_count": 14,
     "metadata": {},
     "output_type": "execute_result"
    }
   ],
   "source": [
    "#price\n",
    "price_tag=driver.find_elements(By.XPATH,'//div[@class=\"a-row a-size-base a-color-base\"]' )\n",
    "price=[]\n",
    "for i in price_tag:\n",
    "    price.append((i.text).split('\\n')[0])\n",
    "len(price)"
   ]
  },
  {
   "cell_type": "code",
   "execution_count": 15,
   "id": "fce83e2e",
   "metadata": {},
   "outputs": [
    {
     "data": {
      "text/plain": [
       "26"
      ]
     },
     "execution_count": 15,
     "metadata": {},
     "output_type": "execute_result"
    }
   ],
   "source": [
    "#expected delivery\n",
    "dlvry_tag=driver.find_elements(By.XPATH,'//div[@class=\"a-row s-align-children-center\"]')\n",
    "exp_delvry=['-','-']\n",
    "for i in dlvry_tag:\n",
    "    exp_delvry.append(i.text)\n",
    "len(exp_delvry)"
   ]
  },
  {
   "cell_type": "code",
   "execution_count": 16,
   "id": "2122b790",
   "metadata": {},
   "outputs": [
    {
     "data": {
      "text/plain": [
       "25"
      ]
     },
     "execution_count": 16,
     "metadata": {},
     "output_type": "execute_result"
    }
   ],
   "source": [
    "#Brand name\n",
    "title_tag=driver.find_elements(By.XPATH, '//h2[@class=\"a-size-mini a-spacing-none a-color-base s-line-clamp-2\"]')\n",
    "#Creating empty list to store the scrape data\n",
    "brand_name=[]\n",
    "for i in title_tag:\n",
    "    brand_name.append((i.text).split(' ')[0])\n",
    "len(brand_name)"
   ]
  },
  {
   "cell_type": "code",
   "execution_count": 17,
   "id": "9bee20ba",
   "metadata": {},
   "outputs": [
    {
     "data": {
      "text/plain": [
       "30"
      ]
     },
     "execution_count": 17,
     "metadata": {},
     "output_type": "execute_result"
    }
   ],
   "source": [
    "#scraping url\n",
    "url_tag=driver.find_elements(By.XPATH, '//a[@ class=\"a-link-normal s-underline-text s-underline-link-text s-link-style a-text-normal\"]')\n",
    "p_urls=[]\n",
    "for i in url_tag:\n",
    "    p_urls.append(i.get_attribute('href'))\n",
    "len(p_urls)"
   ]
  },
  {
   "cell_type": "code",
   "execution_count": 18,
   "id": "d641417c",
   "metadata": {},
   "outputs": [],
   "source": [
    "import time"
   ]
  },
  {
   "cell_type": "code",
   "execution_count": 20,
   "id": "2b1db367",
   "metadata": {},
   "outputs": [
    {
     "data": {
      "text/plain": [
       "<selenium.webdriver.remote.webelement.WebElement (session=\"ee3086b76941bbb9d63eaa0068d3389c\", element=\"dd1f6579-302e-48ca-9ca9-6972c94ed0a8\")>"
      ]
     },
     "execution_count": 20,
     "metadata": {},
     "output_type": "execute_result"
    }
   ],
   "source": [
    "nxt_bttn=driver.find_element(By.XPATH, '/html/body/div[1]/div[2]/div[1]/div[1]/div/span[1]/div[1]/div[32]/div/div/span/a[3]')\n",
    "nxt_bttn"
   ]
  },
  {
   "cell_type": "code",
   "execution_count": 21,
   "id": "a018bd16",
   "metadata": {},
   "outputs": [],
   "source": [
    "nxt_bttn.click()"
   ]
  },
  {
   "cell_type": "code",
   "execution_count": 22,
   "id": "22721a1c",
   "metadata": {},
   "outputs": [
    {
     "name": "stdout",
     "output_type": "stream",
     "text": [
      "length title  47\n",
      "length price :  56\n",
      "length of expected delivery :  50\n",
      "length of brand name :  47\n",
      "length of urls :  52\n"
     ]
    }
   ],
   "source": [
    "#scraping next page for title i.e product name and brand name\n",
    "title_tag=driver.find_elements(By.XPATH, '//h2[@class=\"a-size-mini a-spacing-none a-color-base s-line-clamp-2\"]')\n",
    "for i in title_tag:\n",
    "    title.append(i.text)\n",
    "print(\"length title \", len(title))\n",
    "# scraping next page for price \n",
    "price_tag=driver.find_elements(By.XPATH,'//div[@class=\"a-row a-size-base a-color-base\"]' )\n",
    "\n",
    "for i in price_tag[:25]:\n",
    "    price.append((i.text).split('\\n')[0])\n",
    "print(\"length price : \",len(price))\n",
    "\n",
    "#expected delivery\n",
    "dlvry_tag=driver.find_elements(By.XPATH,'//div[@class=\"a-row s-align-children-center\"]')\n",
    "for i in dlvry_tag:\n",
    "    exp_delvry.append(i.text)\n",
    "print(\"length of expected delivery : \",len(exp_delvry))\n",
    "\n",
    "\n",
    "# next page Brand name\n",
    "title_tag=driver.find_elements(By.XPATH, '//h2[@class=\"a-size-mini a-spacing-none a-color-base s-line-clamp-2\"]')\n",
    "for i in title_tag:\n",
    "    brand_name.append((i.text).split(' ')[0])\n",
    "print(\"length of brand name : \",len(brand_name))\n",
    "\n",
    "\n",
    "#next page scraping url\n",
    "url_tag=driver.find_elements(By.XPATH, '//a[@ class=\"a-link-normal s-underline-text s-underline-link-text s-link-style a-text-normal\"]')\n",
    "\n",
    "for i in url_tag:\n",
    "    p_urls.append(i.get_attribute('href'))\n",
    "print(\"length of urls : \",len(p_urls))"
   ]
  },
  {
   "cell_type": "code",
   "execution_count": 26,
   "id": "01cb7163",
   "metadata": {},
   "outputs": [],
   "source": [
    "nxt_btn=driver.find_element(By.XPATH,'/html/body/div[1]/div[2]/div[1]/div[1]/div/span[1]/div[1]/div[30]/div/div/span/a[4]')\n"
   ]
  },
  {
   "cell_type": "code",
   "execution_count": 27,
   "id": "5ccc8bdc",
   "metadata": {},
   "outputs": [],
   "source": [
    "nxt_btn.click()\n"
   ]
  },
  {
   "cell_type": "code",
   "execution_count": 28,
   "id": "0de6c13d",
   "metadata": {},
   "outputs": [
    {
     "name": "stdout",
     "output_type": "stream",
     "text": [
      "length title  69\n",
      "length price :  79\n",
      "length of expected delivery :  73\n",
      "length of brand name :  69\n",
      "length of urls :  74\n"
     ]
    }
   ],
   "source": [
    "#scraping next page for title i.e product name and brand name(page 3)\n",
    "title_tag=driver.find_elements(By.XPATH, '//h2[@class=\"a-size-mini a-spacing-none a-color-base s-line-clamp-2\"]')\n",
    "for i in title_tag:\n",
    "    title.append(i.text)\n",
    "print(\"length title \", len(title))\n",
    "# scraping next page for price \n",
    "price_tag=driver.find_elements(By.XPATH,'//div[@class=\"a-row a-size-base a-color-base\"]' )\n",
    "\n",
    "for i in price_tag[:25]:\n",
    "    price.append((i.text).split('\\n')[0])\n",
    "print(\"length price : \",len(price))\n",
    "\n",
    "#expected delivery\n",
    "dlvry_tag=driver.find_elements(By.XPATH,'//div[@class=\"a-row s-align-children-center\"]')\n",
    "for i in dlvry_tag:\n",
    "    exp_delvry.append(i.text)\n",
    "print(\"length of expected delivery : \",len(exp_delvry))\n",
    "\n",
    "\n",
    "# next page Brand name\n",
    "title_tag=driver.find_elements(By.XPATH, '//h2[@class=\"a-size-mini a-spacing-none a-color-base s-line-clamp-2\"]')\n",
    "for i in title_tag:\n",
    "    brand_name.append((i.text).split(' ')[0])\n",
    "print(\"length of brand name : \",len(brand_name))\n",
    "\n",
    "\n",
    "#next page scraping url\n",
    "url_tag=driver.find_elements(By.XPATH, '//a[@ class=\"a-link-normal s-underline-text s-underline-link-text s-link-style a-text-normal\"]')\n",
    "\n",
    "for i in url_tag:\n",
    "    p_urls.append(i.get_attribute('href'))\n",
    "print(\"length of urls : \",len(p_urls))"
   ]
  },
  {
   "cell_type": "code",
   "execution_count": 1,
   "id": "cc3f40d2",
   "metadata": {},
   "outputs": [
    {
     "ename": "NameError",
     "evalue": "name 'p_urls' is not defined",
     "output_type": "error",
     "traceback": [
      "\u001b[1;31m---------------------------------------------------------------------------\u001b[0m",
      "\u001b[1;31mNameError\u001b[0m                                 Traceback (most recent call last)",
      "\u001b[1;32m<ipython-input-1-4779af2dbada>\u001b[0m in \u001b[0;36m<module>\u001b[1;34m\u001b[0m\n\u001b[0;32m      2\u001b[0m \u001b[0mr_r\u001b[0m\u001b[1;33m=\u001b[0m\u001b[1;33m[\u001b[0m\u001b[1;33m]\u001b[0m\u001b[1;33m\u001b[0m\u001b[1;33m\u001b[0m\u001b[0m\n\u001b[0;32m      3\u001b[0m \u001b[0mreplace_retrn\u001b[0m\u001b[1;33m=\u001b[0m\u001b[1;33m[\u001b[0m\u001b[1;33m]\u001b[0m\u001b[1;33m\u001b[0m\u001b[1;33m\u001b[0m\u001b[0m\n\u001b[1;32m----> 4\u001b[1;33m \u001b[1;32mfor\u001b[0m \u001b[0mlink\u001b[0m \u001b[1;32min\u001b[0m \u001b[0mrange\u001b[0m\u001b[1;33m(\u001b[0m\u001b[1;36m0\u001b[0m\u001b[1;33m,\u001b[0m\u001b[0mlen\u001b[0m\u001b[1;33m(\u001b[0m\u001b[0mp_urls\u001b[0m\u001b[1;33m)\u001b[0m\u001b[1;33m)\u001b[0m\u001b[1;33m:\u001b[0m\u001b[1;33m\u001b[0m\u001b[1;33m\u001b[0m\u001b[0m\n\u001b[0m\u001b[0;32m      5\u001b[0m     \u001b[0mdriver\u001b[0m\u001b[1;33m.\u001b[0m\u001b[0mget\u001b[0m\u001b[1;33m(\u001b[0m\u001b[0mp_urls\u001b[0m\u001b[1;33m[\u001b[0m\u001b[0mlink\u001b[0m\u001b[1;33m]\u001b[0m\u001b[1;33m)\u001b[0m\u001b[1;33m\u001b[0m\u001b[1;33m\u001b[0m\u001b[0m\n\u001b[0;32m      6\u001b[0m     \u001b[0mtime\u001b[0m\u001b[1;33m.\u001b[0m\u001b[0msleep\u001b[0m\u001b[1;33m(\u001b[0m\u001b[1;36m7\u001b[0m\u001b[1;33m)\u001b[0m\u001b[1;33m\u001b[0m\u001b[1;33m\u001b[0m\u001b[0m\n",
      "\u001b[1;31mNameError\u001b[0m: name 'p_urls' is not defined"
     ]
    }
   ],
   "source": [
    "#returns/replacements.\n",
    "r_r=[] \n",
    "replace_retrn=[]\n",
    "for link in range(0,len(p_urls)):\n",
    "    driver.get(p_urls[link])\n",
    "    time.sleep(7)\n",
    "    rep_tag=driver.find_elements(By.XPATH, '//a[@class=\"a-section a-spacing-none icon-content\"]')\n",
    "    \n",
    "    for i in rep_tag:\n",
    "        replace_retrn.append(i.text)\n",
    "    \n",
    "         \n",
    "    for i in range(0,len(replace_retrn),4):\n",
    "        r_r.append(replace_retrn[i])\n",
    "r_r.remove('Pay on Delivery')    \n",
    "r_r\n",
    "\n",
    "len(r_r)"
   ]
  },
  {
   "cell_type": "code",
   "execution_count": 2,
   "id": "2978a0ca",
   "metadata": {},
   "outputs": [
    {
     "data": {
      "text/plain": [
       "0"
      ]
     },
     "execution_count": 2,
     "metadata": {},
     "output_type": "execute_result"
    }
   ],
   "source": [
    "#removing unwanted data\n",
    "r_r=list(filter(lambda a: a!= 'Pay on Delivery', r_r))\n",
    "len(r_r)"
   ]
  },
  {
   "cell_type": "code",
   "execution_count": 3,
   "id": "16f9c7b5",
   "metadata": {},
   "outputs": [
    {
     "ename": "NameError",
     "evalue": "name 'title' is not defined",
     "output_type": "error",
     "traceback": [
      "\u001b[1;31m---------------------------------------------------------------------------\u001b[0m",
      "\u001b[1;31mNameError\u001b[0m                                 Traceback (most recent call last)",
      "\u001b[1;32m<ipython-input-3-eabdce1bee6b>\u001b[0m in \u001b[0;36m<module>\u001b[1;34m\u001b[0m\n\u001b[0;32m      1\u001b[0m \u001b[1;31m#matching with lenght of other columns.\u001b[0m\u001b[1;33m\u001b[0m\u001b[1;33m\u001b[0m\u001b[1;33m\u001b[0m\u001b[0m\n\u001b[1;32m----> 2\u001b[1;33m \u001b[0mr_r\u001b[0m\u001b[1;33m=\u001b[0m\u001b[0mr_r\u001b[0m\u001b[1;33m[\u001b[0m\u001b[1;33m:\u001b[0m\u001b[0mlen\u001b[0m\u001b[1;33m(\u001b[0m\u001b[0mtitle\u001b[0m\u001b[1;33m)\u001b[0m\u001b[1;33m]\u001b[0m\u001b[1;33m\u001b[0m\u001b[1;33m\u001b[0m\u001b[0m\n\u001b[0m",
      "\u001b[1;31mNameError\u001b[0m: name 'title' is not defined"
     ]
    }
   ],
   "source": [
    "#matching with lenght of other columns.\n",
    "r_r=r_r[:len(title)]"
   ]
  },
  {
   "cell_type": "code",
   "execution_count": 4,
   "id": "6267989c",
   "metadata": {},
   "outputs": [
    {
     "ename": "NameError",
     "evalue": "name 'title' is not defined",
     "output_type": "error",
     "traceback": [
      "\u001b[1;31m---------------------------------------------------------------------------\u001b[0m",
      "\u001b[1;31mNameError\u001b[0m                                 Traceback (most recent call last)",
      "\u001b[1;32m<ipython-input-4-ae5c5b0b5c10>\u001b[0m in \u001b[0;36m<module>\u001b[1;34m\u001b[0m\n\u001b[0;32m      1\u001b[0m \u001b[1;31m#checking lenght of every column\u001b[0m\u001b[1;33m\u001b[0m\u001b[1;33m\u001b[0m\u001b[1;33m\u001b[0m\u001b[0m\n\u001b[1;32m----> 2\u001b[1;33m \u001b[0mlen\u001b[0m\u001b[1;33m(\u001b[0m\u001b[0mtitle\u001b[0m\u001b[1;33m)\u001b[0m\u001b[1;33m,\u001b[0m\u001b[0mlen\u001b[0m\u001b[1;33m(\u001b[0m\u001b[0mprice\u001b[0m\u001b[1;33m)\u001b[0m\u001b[1;33m,\u001b[0m\u001b[0mlen\u001b[0m\u001b[1;33m(\u001b[0m\u001b[0mexp_delvry\u001b[0m\u001b[1;33m)\u001b[0m\u001b[1;33m,\u001b[0m\u001b[0mlen\u001b[0m\u001b[1;33m(\u001b[0m\u001b[0mbrand_name\u001b[0m\u001b[1;33m)\u001b[0m\u001b[1;33m,\u001b[0m\u001b[0mlen\u001b[0m\u001b[1;33m(\u001b[0m\u001b[0mp_urls\u001b[0m\u001b[1;33m)\u001b[0m\u001b[1;33m,\u001b[0m\u001b[0mlen\u001b[0m\u001b[1;33m(\u001b[0m\u001b[0mr_r\u001b[0m\u001b[1;33m)\u001b[0m\u001b[1;33m\u001b[0m\u001b[1;33m\u001b[0m\u001b[0m\n\u001b[0m",
      "\u001b[1;31mNameError\u001b[0m: name 'title' is not defined"
     ]
    }
   ],
   "source": [
    "#checking lenght of every column\n",
    "len(title),len(price),len(exp_delvry),len(brand_name),len(p_urls),len(r_r)"
   ]
  },
  {
   "cell_type": "code",
   "execution_count": 5,
   "id": "79186d16",
   "metadata": {},
   "outputs": [
    {
     "ename": "NameError",
     "evalue": "name 'price' is not defined",
     "output_type": "error",
     "traceback": [
      "\u001b[1;31m---------------------------------------------------------------------------\u001b[0m",
      "\u001b[1;31mNameError\u001b[0m                                 Traceback (most recent call last)",
      "\u001b[1;32m<ipython-input-5-319fe45a2160>\u001b[0m in \u001b[0;36m<module>\u001b[1;34m\u001b[0m\n\u001b[0;32m      1\u001b[0m \u001b[1;31m#Leveling all the columns\u001b[0m\u001b[1;33m\u001b[0m\u001b[1;33m\u001b[0m\u001b[1;33m\u001b[0m\u001b[0m\n\u001b[0;32m      2\u001b[0m \u001b[1;31m#price:\u001b[0m\u001b[1;33m\u001b[0m\u001b[1;33m\u001b[0m\u001b[1;33m\u001b[0m\u001b[0m\n\u001b[1;32m----> 3\u001b[1;33m \u001b[0mprice\u001b[0m\u001b[1;33m=\u001b[0m\u001b[0mprice\u001b[0m\u001b[1;33m[\u001b[0m\u001b[1;33m:\u001b[0m\u001b[0mlen\u001b[0m\u001b[1;33m(\u001b[0m\u001b[0mtitle\u001b[0m\u001b[1;33m)\u001b[0m\u001b[1;33m]\u001b[0m\u001b[1;33m\u001b[0m\u001b[1;33m\u001b[0m\u001b[0m\n\u001b[0m\u001b[0;32m      4\u001b[0m \u001b[1;33m\u001b[0m\u001b[0m\n\u001b[0;32m      5\u001b[0m \u001b[1;31m#expected delivery:\u001b[0m\u001b[1;33m\u001b[0m\u001b[1;33m\u001b[0m\u001b[1;33m\u001b[0m\u001b[0m\n",
      "\u001b[1;31mNameError\u001b[0m: name 'price' is not defined"
     ]
    }
   ],
   "source": [
    "#Leveling all the columns\n",
    "#price:\n",
    "price=price[:len(title)]\n",
    "\n",
    "#expected delivery:\n",
    "for i in range(1,len(title)):\n",
    "    if len(exp_delvry)<len(title):\n",
    "        exp_delvry.append(None)\n",
    "\n",
    "len(price),len(exp_delvry)"
   ]
  },
  {
   "cell_type": "code",
   "execution_count": 6,
   "id": "efdf3cac",
   "metadata": {},
   "outputs": [
    {
     "ename": "NameError",
     "evalue": "name 'pd' is not defined",
     "output_type": "error",
     "traceback": [
      "\u001b[1;31m---------------------------------------------------------------------------\u001b[0m",
      "\u001b[1;31mNameError\u001b[0m                                 Traceback (most recent call last)",
      "\u001b[1;32m<ipython-input-6-aa24155bd8ee>\u001b[0m in \u001b[0;36m<module>\u001b[1;34m\u001b[0m\n\u001b[0;32m      1\u001b[0m \u001b[1;31m# Preparing data frame for the first 3 pages of the data appear in Question1 search option. and here we search laptop\u001b[0m\u001b[1;33m\u001b[0m\u001b[1;33m\u001b[0m\u001b[1;33m\u001b[0m\u001b[0m\n\u001b[0;32m      2\u001b[0m \u001b[1;33m\u001b[0m\u001b[0m\n\u001b[1;32m----> 3\u001b[1;33m item_list= pd.DataFrame({'Name of the Product' :title, 'Brand name': brand_name,\n\u001b[0m\u001b[0;32m      4\u001b[0m                         \u001b[1;34m'Price'\u001b[0m\u001b[1;33m:\u001b[0m \u001b[0mprice\u001b[0m\u001b[1;33m,\u001b[0m \u001b[1;34m'Expected Delivery'\u001b[0m\u001b[1;33m:\u001b[0m \u001b[0mexp_delvry\u001b[0m\u001b[1;33m,\u001b[0m \u001b[1;34m'Returns/Replacements'\u001b[0m\u001b[1;33m:\u001b[0m\u001b[0mr_r\u001b[0m\u001b[1;33m,\u001b[0m\u001b[1;33m\u001b[0m\u001b[1;33m\u001b[0m\u001b[0m\n\u001b[0;32m      5\u001b[0m                         'Product URLs': p_urls})\n",
      "\u001b[1;31mNameError\u001b[0m: name 'pd' is not defined"
     ]
    }
   ],
   "source": [
    "# Preparing data frame for the first 3 pages of the data appear in Question1 search option. and here we search laptop\n",
    "\n",
    "item_list= pd.DataFrame({'Name of the Product' :title, 'Brand name': brand_name,\n",
    "                        'Price': price, 'Expected Delivery': exp_delvry, 'Returns/Replacements':r_r,\n",
    "                        'Product URLs': p_urls})\n",
    "print(\"List of Product (laptop) appears in first three pages :\\n\")\n",
    "item_list"
   ]
  },
  {
   "cell_type": "markdown",
   "id": "ef1c28af",
   "metadata": {},
   "source": [
    "Q3). Write a python program to access the search bar and search button on images.google.com and scrape 10\n",
    "images each for keywords ‘fruits’, ‘cars’ and ‘Machine Learning’, ‘Guitar’, ‘Cakes’"
   ]
  },
  {
   "cell_type": "code",
   "execution_count": 12,
   "id": "2a29678b",
   "metadata": {},
   "outputs": [],
   "source": [
    "# getting the website.\n",
    "\n",
    "url='https://images.google.com/'\n",
    "driver.get(url)"
   ]
  },
  {
   "cell_type": "code",
   "execution_count": 13,
   "id": "61f61b77",
   "metadata": {},
   "outputs": [
    {
     "data": {
      "text/plain": [
       "<selenium.webdriver.remote.webelement.WebElement (session=\"c88aae1629b143ebe04061fc0c2bbdf9\", element=\"69af0d91-644a-4645-9805-93e1e25f3dba\")>"
      ]
     },
     "execution_count": 13,
     "metadata": {},
     "output_type": "execute_result"
    }
   ],
   "source": [
    "# for accessing the search bar, finding search bar element.\n",
    "srch_bar_tag=driver.find_element(By.XPATH,'/html/body/div[1]/div[3]/form/div[1]/div[1]/div[1]/div/div[2]/input')\n",
    "srch_bar_tag"
   ]
  },
  {
   "cell_type": "code",
   "execution_count": 14,
   "id": "b1c05bca",
   "metadata": {},
   "outputs": [
    {
     "data": {
      "text/plain": [
       "<selenium.webdriver.remote.webelement.WebElement (session=\"c88aae1629b143ebe04061fc0c2bbdf9\", element=\"e8b5976b-d195-4a32-9206-339c5371976b\")>"
      ]
     },
     "execution_count": 14,
     "metadata": {},
     "output_type": "execute_result"
    }
   ],
   "source": [
    "#for accessing the search icon, finding web element for search icon\n",
    "srch_icon=driver.find_element(By.XPATH,\"/html/body/div[1]/div[3]/form/div[1]/div[1]/div[1]/button\")\n",
    "srch_icon"
   ]
  },
  {
   "cell_type": "code",
   "execution_count": 15,
   "id": "9a645dec",
   "metadata": {},
   "outputs": [],
   "source": [
    "#sending key words, to scrape 10 images\n",
    "srch_bar_tag.send_keys(\"fruits\")"
   ]
  },
  {
   "cell_type": "code",
   "execution_count": 16,
   "id": "cab07c54",
   "metadata": {},
   "outputs": [
    {
     "ename": "ElementClickInterceptedException",
     "evalue": "Message: element click intercepted: Element <button jsname=\"Tg7LZd\" class=\"Tg7LZd\" aria-label=\"Google Search\" type=\"submit\" data-ved=\"0ahUKEwjoyfDO9YP9AhXiXWwGHZZwCyAQ4dUDCAc\">...</button> is not clickable at point (786, 201). Other element would receive the click: <iframe role=\"presentation\" frameborder=\"0\" scrolling=\"no\" name=\"callout\" src=\"https://ogs.google.com/widget/callout?prid=19028915&amp;pgid=19027681&amp;puid=3e9e72cbc9a83b93&amp;cce=1&amp;dc=1&amp;origin=https%3A%2F%2Fimages.google.com&amp;cn=callout&amp;pid=1&amp;spid=2&amp;hl=en\" style=\"height: 100%; width: 100%;\" data-iml=\"1675790379530\"></iframe>\n  (Session info: chrome=109.0.5414.120)\nStacktrace:\nBacktrace:\n\t(No symbol) [0x00306643]\n\t(No symbol) [0x0029BE21]\n\t(No symbol) [0x0019DA9D]\n\t(No symbol) [0x001D92B2]\n\t(No symbol) [0x001D6970]\n\t(No symbol) [0x001D3E0B]\n\t(No symbol) [0x001D2548]\n\t(No symbol) [0x001C6B13]\n\t(No symbol) [0x001EFD7C]\n\t(No symbol) [0x001C641F]\n\t(No symbol) [0x001F00D4]\n\t(No symbol) [0x00206B09]\n\t(No symbol) [0x001EFB76]\n\t(No symbol) [0x001C49C1]\n\t(No symbol) [0x001C5E5D]\n\tGetHandleVerifier [0x0057A142+2497106]\n\tGetHandleVerifier [0x005A85D3+2686691]\n\tGetHandleVerifier [0x005ABB9C+2700460]\n\tGetHandleVerifier [0x003B3B10+635936]\n\t(No symbol) [0x002A4A1F]\n\t(No symbol) [0x002AA418]\n\t(No symbol) [0x002AA505]\n\t(No symbol) [0x002B508B]\n\tBaseThreadInitThunk [0x756300F9+25]\n\tRtlGetAppContainerNamedObjectPath [0x77727BBE+286]\n\tRtlGetAppContainerNamedObjectPath [0x77727B8E+238]\n\t(No symbol) [0x00000000]\n",
     "output_type": "error",
     "traceback": [
      "\u001b[1;31m---------------------------------------------------------------------------\u001b[0m",
      "\u001b[1;31mElementClickInterceptedException\u001b[0m          Traceback (most recent call last)",
      "\u001b[1;32m<ipython-input-16-a683e3e5ec17>\u001b[0m in \u001b[0;36m<module>\u001b[1;34m\u001b[0m\n\u001b[0;32m      1\u001b[0m \u001b[1;31m#click on search icon\u001b[0m\u001b[1;33m\u001b[0m\u001b[1;33m\u001b[0m\u001b[1;33m\u001b[0m\u001b[0m\n\u001b[1;32m----> 2\u001b[1;33m \u001b[0msrch_icon\u001b[0m\u001b[1;33m.\u001b[0m\u001b[0mclick\u001b[0m\u001b[1;33m(\u001b[0m\u001b[1;33m)\u001b[0m\u001b[1;33m\u001b[0m\u001b[1;33m\u001b[0m\u001b[0m\n\u001b[0m",
      "\u001b[1;32m~\\anaconda3\\lib\\site-packages\\selenium\\webdriver\\remote\\webelement.py\u001b[0m in \u001b[0;36mclick\u001b[1;34m(self)\u001b[0m\n\u001b[0;32m     79\u001b[0m     \u001b[1;32mdef\u001b[0m \u001b[0mclick\u001b[0m\u001b[1;33m(\u001b[0m\u001b[0mself\u001b[0m\u001b[1;33m)\u001b[0m \u001b[1;33m->\u001b[0m \u001b[1;32mNone\u001b[0m\u001b[1;33m:\u001b[0m\u001b[1;33m\u001b[0m\u001b[1;33m\u001b[0m\u001b[0m\n\u001b[0;32m     80\u001b[0m         \u001b[1;34m\"\"\"Clicks the element.\"\"\"\u001b[0m\u001b[1;33m\u001b[0m\u001b[1;33m\u001b[0m\u001b[0m\n\u001b[1;32m---> 81\u001b[1;33m         \u001b[0mself\u001b[0m\u001b[1;33m.\u001b[0m\u001b[0m_execute\u001b[0m\u001b[1;33m(\u001b[0m\u001b[0mCommand\u001b[0m\u001b[1;33m.\u001b[0m\u001b[0mCLICK_ELEMENT\u001b[0m\u001b[1;33m)\u001b[0m\u001b[1;33m\u001b[0m\u001b[1;33m\u001b[0m\u001b[0m\n\u001b[0m\u001b[0;32m     82\u001b[0m \u001b[1;33m\u001b[0m\u001b[0m\n\u001b[0;32m     83\u001b[0m     \u001b[1;32mdef\u001b[0m \u001b[0msubmit\u001b[0m\u001b[1;33m(\u001b[0m\u001b[0mself\u001b[0m\u001b[1;33m)\u001b[0m\u001b[1;33m:\u001b[0m\u001b[1;33m\u001b[0m\u001b[1;33m\u001b[0m\u001b[0m\n",
      "\u001b[1;32m~\\anaconda3\\lib\\site-packages\\selenium\\webdriver\\remote\\webelement.py\u001b[0m in \u001b[0;36m_execute\u001b[1;34m(self, command, params)\u001b[0m\n\u001b[0;32m    708\u001b[0m             \u001b[0mparams\u001b[0m \u001b[1;33m=\u001b[0m \u001b[1;33m{\u001b[0m\u001b[1;33m}\u001b[0m\u001b[1;33m\u001b[0m\u001b[1;33m\u001b[0m\u001b[0m\n\u001b[0;32m    709\u001b[0m         \u001b[0mparams\u001b[0m\u001b[1;33m[\u001b[0m\u001b[1;34m'id'\u001b[0m\u001b[1;33m]\u001b[0m \u001b[1;33m=\u001b[0m \u001b[0mself\u001b[0m\u001b[1;33m.\u001b[0m\u001b[0m_id\u001b[0m\u001b[1;33m\u001b[0m\u001b[1;33m\u001b[0m\u001b[0m\n\u001b[1;32m--> 710\u001b[1;33m         \u001b[1;32mreturn\u001b[0m \u001b[0mself\u001b[0m\u001b[1;33m.\u001b[0m\u001b[0m_parent\u001b[0m\u001b[1;33m.\u001b[0m\u001b[0mexecute\u001b[0m\u001b[1;33m(\u001b[0m\u001b[0mcommand\u001b[0m\u001b[1;33m,\u001b[0m \u001b[0mparams\u001b[0m\u001b[1;33m)\u001b[0m\u001b[1;33m\u001b[0m\u001b[1;33m\u001b[0m\u001b[0m\n\u001b[0m\u001b[0;32m    711\u001b[0m \u001b[1;33m\u001b[0m\u001b[0m\n\u001b[0;32m    712\u001b[0m     \u001b[1;32mdef\u001b[0m \u001b[0mfind_element\u001b[0m\u001b[1;33m(\u001b[0m\u001b[0mself\u001b[0m\u001b[1;33m,\u001b[0m \u001b[0mby\u001b[0m\u001b[1;33m=\u001b[0m\u001b[0mBy\u001b[0m\u001b[1;33m.\u001b[0m\u001b[0mID\u001b[0m\u001b[1;33m,\u001b[0m \u001b[0mvalue\u001b[0m\u001b[1;33m=\u001b[0m\u001b[1;32mNone\u001b[0m\u001b[1;33m)\u001b[0m\u001b[1;33m:\u001b[0m\u001b[1;33m\u001b[0m\u001b[1;33m\u001b[0m\u001b[0m\n",
      "\u001b[1;32m~\\anaconda3\\lib\\site-packages\\selenium\\webdriver\\remote\\webdriver.py\u001b[0m in \u001b[0;36mexecute\u001b[1;34m(self, driver_command, params)\u001b[0m\n\u001b[0;32m    423\u001b[0m         \u001b[0mresponse\u001b[0m \u001b[1;33m=\u001b[0m \u001b[0mself\u001b[0m\u001b[1;33m.\u001b[0m\u001b[0mcommand_executor\u001b[0m\u001b[1;33m.\u001b[0m\u001b[0mexecute\u001b[0m\u001b[1;33m(\u001b[0m\u001b[0mdriver_command\u001b[0m\u001b[1;33m,\u001b[0m \u001b[0mparams\u001b[0m\u001b[1;33m)\u001b[0m\u001b[1;33m\u001b[0m\u001b[1;33m\u001b[0m\u001b[0m\n\u001b[0;32m    424\u001b[0m         \u001b[1;32mif\u001b[0m \u001b[0mresponse\u001b[0m\u001b[1;33m:\u001b[0m\u001b[1;33m\u001b[0m\u001b[1;33m\u001b[0m\u001b[0m\n\u001b[1;32m--> 425\u001b[1;33m             \u001b[0mself\u001b[0m\u001b[1;33m.\u001b[0m\u001b[0merror_handler\u001b[0m\u001b[1;33m.\u001b[0m\u001b[0mcheck_response\u001b[0m\u001b[1;33m(\u001b[0m\u001b[0mresponse\u001b[0m\u001b[1;33m)\u001b[0m\u001b[1;33m\u001b[0m\u001b[1;33m\u001b[0m\u001b[0m\n\u001b[0m\u001b[0;32m    426\u001b[0m             response['value'] = self._unwrap_value(\n\u001b[0;32m    427\u001b[0m                 response.get('value', None))\n",
      "\u001b[1;32m~\\anaconda3\\lib\\site-packages\\selenium\\webdriver\\remote\\errorhandler.py\u001b[0m in \u001b[0;36mcheck_response\u001b[1;34m(self, response)\u001b[0m\n\u001b[0;32m    245\u001b[0m                 \u001b[0malert_text\u001b[0m \u001b[1;33m=\u001b[0m \u001b[0mvalue\u001b[0m\u001b[1;33m[\u001b[0m\u001b[1;34m'alert'\u001b[0m\u001b[1;33m]\u001b[0m\u001b[1;33m.\u001b[0m\u001b[0mget\u001b[0m\u001b[1;33m(\u001b[0m\u001b[1;34m'text'\u001b[0m\u001b[1;33m)\u001b[0m\u001b[1;33m\u001b[0m\u001b[1;33m\u001b[0m\u001b[0m\n\u001b[0;32m    246\u001b[0m             \u001b[1;32mraise\u001b[0m \u001b[0mexception_class\u001b[0m\u001b[1;33m(\u001b[0m\u001b[0mmessage\u001b[0m\u001b[1;33m,\u001b[0m \u001b[0mscreen\u001b[0m\u001b[1;33m,\u001b[0m \u001b[0mstacktrace\u001b[0m\u001b[1;33m,\u001b[0m \u001b[0malert_text\u001b[0m\u001b[1;33m)\u001b[0m  \u001b[1;31m# type: ignore[call-arg]  # mypy is not smart enough here\u001b[0m\u001b[1;33m\u001b[0m\u001b[1;33m\u001b[0m\u001b[0m\n\u001b[1;32m--> 247\u001b[1;33m         \u001b[1;32mraise\u001b[0m \u001b[0mexception_class\u001b[0m\u001b[1;33m(\u001b[0m\u001b[0mmessage\u001b[0m\u001b[1;33m,\u001b[0m \u001b[0mscreen\u001b[0m\u001b[1;33m,\u001b[0m \u001b[0mstacktrace\u001b[0m\u001b[1;33m)\u001b[0m\u001b[1;33m\u001b[0m\u001b[1;33m\u001b[0m\u001b[0m\n\u001b[0m\u001b[0;32m    248\u001b[0m \u001b[1;33m\u001b[0m\u001b[0m\n\u001b[0;32m    249\u001b[0m     \u001b[1;32mdef\u001b[0m \u001b[0m_value_or_default\u001b[0m\u001b[1;33m(\u001b[0m\u001b[0mself\u001b[0m\u001b[1;33m,\u001b[0m \u001b[0mobj\u001b[0m\u001b[1;33m:\u001b[0m \u001b[0mMapping\u001b[0m\u001b[1;33m[\u001b[0m\u001b[0m_KT\u001b[0m\u001b[1;33m,\u001b[0m \u001b[0m_VT\u001b[0m\u001b[1;33m]\u001b[0m\u001b[1;33m,\u001b[0m \u001b[0mkey\u001b[0m\u001b[1;33m:\u001b[0m \u001b[0m_KT\u001b[0m\u001b[1;33m,\u001b[0m \u001b[0mdefault\u001b[0m\u001b[1;33m:\u001b[0m \u001b[0m_VT\u001b[0m\u001b[1;33m)\u001b[0m \u001b[1;33m->\u001b[0m \u001b[0m_VT\u001b[0m\u001b[1;33m:\u001b[0m\u001b[1;33m\u001b[0m\u001b[1;33m\u001b[0m\u001b[0m\n",
      "\u001b[1;31mElementClickInterceptedException\u001b[0m: Message: element click intercepted: Element <button jsname=\"Tg7LZd\" class=\"Tg7LZd\" aria-label=\"Google Search\" type=\"submit\" data-ved=\"0ahUKEwjoyfDO9YP9AhXiXWwGHZZwCyAQ4dUDCAc\">...</button> is not clickable at point (786, 201). Other element would receive the click: <iframe role=\"presentation\" frameborder=\"0\" scrolling=\"no\" name=\"callout\" src=\"https://ogs.google.com/widget/callout?prid=19028915&amp;pgid=19027681&amp;puid=3e9e72cbc9a83b93&amp;cce=1&amp;dc=1&amp;origin=https%3A%2F%2Fimages.google.com&amp;cn=callout&amp;pid=1&amp;spid=2&amp;hl=en\" style=\"height: 100%; width: 100%;\" data-iml=\"1675790379530\"></iframe>\n  (Session info: chrome=109.0.5414.120)\nStacktrace:\nBacktrace:\n\t(No symbol) [0x00306643]\n\t(No symbol) [0x0029BE21]\n\t(No symbol) [0x0019DA9D]\n\t(No symbol) [0x001D92B2]\n\t(No symbol) [0x001D6970]\n\t(No symbol) [0x001D3E0B]\n\t(No symbol) [0x001D2548]\n\t(No symbol) [0x001C6B13]\n\t(No symbol) [0x001EFD7C]\n\t(No symbol) [0x001C641F]\n\t(No symbol) [0x001F00D4]\n\t(No symbol) [0x00206B09]\n\t(No symbol) [0x001EFB76]\n\t(No symbol) [0x001C49C1]\n\t(No symbol) [0x001C5E5D]\n\tGetHandleVerifier [0x0057A142+2497106]\n\tGetHandleVerifier [0x005A85D3+2686691]\n\tGetHandleVerifier [0x005ABB9C+2700460]\n\tGetHandleVerifier [0x003B3B10+635936]\n\t(No symbol) [0x002A4A1F]\n\t(No symbol) [0x002AA418]\n\t(No symbol) [0x002AA505]\n\t(No symbol) [0x002B508B]\n\tBaseThreadInitThunk [0x756300F9+25]\n\tRtlGetAppContainerNamedObjectPath [0x77727BBE+286]\n\tRtlGetAppContainerNamedObjectPath [0x77727B8E+238]\n\t(No symbol) [0x00000000]\n"
     ]
    }
   ],
   "source": [
    "#click on search icon\n",
    "srch_icon.click()"
   ]
  },
  {
   "cell_type": "code",
   "execution_count": 17,
   "id": "fda94e46",
   "metadata": {},
   "outputs": [],
   "source": [
    "#Scraping and downloading for fruits\n",
    "fruit=[]\n",
    "fruit_tag=driver.find_elements(By.XPATH,'//img[@class=\"rg_i Q4LuWd\"]')\n",
    "for i in fruit_tag:\n",
    "    source= i.get_attribute('src')\n",
    "    if source is not None:\n",
    "            if(source[0:4] == 'http'):\n",
    "                fruit.append(source)\n",
    "for i in range(len(fruit)):\n",
    "    if i >10:\n",
    "        break\n",
    "    print(\"Downloading {0} of {1} image\".format(i,10))\n",
    "    response= requests.get(fruit[i])\n",
    "    file=open(r\"F:\"+ str(i)+\".jpeg\", \"wb\" )\n",
    "    file.write(response.content)"
   ]
  },
  {
   "cell_type": "code",
   "execution_count": 18,
   "id": "93b702f8",
   "metadata": {},
   "outputs": [],
   "source": [
    "driver.get('https://images.google.com/')\n"
   ]
  },
  {
   "cell_type": "code",
   "execution_count": 19,
   "id": "1e5fb814",
   "metadata": {},
   "outputs": [],
   "source": [
    "srch_bar_tag= driver.find_element(By.XPATH,'/html/body/div[1]/div[3]/form/div[1]/div[1]/div[1]/div/div[2]/input')\n"
   ]
  },
  {
   "cell_type": "code",
   "execution_count": 20,
   "id": "33f01b48",
   "metadata": {},
   "outputs": [],
   "source": [
    "srch_bar_tag.send_keys(\"car\")"
   ]
  },
  {
   "cell_type": "code",
   "execution_count": 21,
   "id": "e2f16147",
   "metadata": {},
   "outputs": [],
   "source": [
    "srch_icon=driver.find_element(By.XPATH,\"/html/body/div[1]/div[3]/form/div[1]/div[1]/div[1]/button\")\n",
    "srch_icon\n",
    "srch_icon.click()"
   ]
  },
  {
   "cell_type": "code",
   "execution_count": 22,
   "id": "a5a678d3",
   "metadata": {},
   "outputs": [],
   "source": [
    "#scraping and downloading for cars\n",
    "car=[]\n",
    "car_tag=driver.find_elements(By.XPATH,'//img[@class=\"rg_i Q4LuWd\"]')\n",
    "for i in car_tag:\n",
    "    source= i.get_attribute('src')\n",
    "    if source is not None:\n",
    "            if(source[0:4] == 'http'):\n",
    "                car.append(source)\n",
    "for i in range(len(car)):\n",
    "    if i >10:\n",
    "        print(\"overload\")\n",
    "        break\n",
    "    print(\"Downloading {0} of {1} image\".format(i,10))\n",
    "    response= requests.get(car[i])\n",
    "    file=open(r\"F:\"+ str(i)+\".jpeg\", \"wb\" )\n",
    "    file.write(response.content)"
   ]
  },
  {
   "cell_type": "code",
   "execution_count": 23,
   "id": "0d76ce78",
   "metadata": {},
   "outputs": [],
   "source": [
    "srch_tag= driver.find_element(By.XPATH, '/html/body/c-wiz/c-wiz/div/div[3]/div[2]/div/div[1]/form/div[1]/div[2]/div/div[2]/input')\n"
   ]
  },
  {
   "cell_type": "code",
   "execution_count": 24,
   "id": "5e6937f0",
   "metadata": {},
   "outputs": [],
   "source": [
    "#clear the search bar\n",
    "srch_tag.clear()"
   ]
  },
  {
   "cell_type": "code",
   "execution_count": 25,
   "id": "d6d60697",
   "metadata": {},
   "outputs": [],
   "source": [
    "# sending next keywords\n",
    "srch_tag.send_keys('Machine Learning')"
   ]
  },
  {
   "cell_type": "code",
   "execution_count": 28,
   "id": "35d744d4",
   "metadata": {},
   "outputs": [
    {
     "name": "stdout",
     "output_type": "stream",
     "text": [
      "Downloading 0 of 10 image\n",
      "Downloading 1 of 10 image\n",
      "Downloading 2 of 10 image\n",
      "Downloading 3 of 10 image\n",
      "Downloading 4 of 10 image\n",
      "Downloading 5 of 10 image\n",
      "Downloading 6 of 10 image\n"
     ]
    }
   ],
   "source": [
    "# scraping and downloading the machine learning images\n",
    "Machine_lern=[]\n",
    "ML_tag=driver.find_elements(By.XPATH,'//img[@class=\"rg_i Q4LuWd\"]')\n",
    "for i in ML_tag:\n",
    "    source= i.get_attribute('src')\n",
    "    if source is not None:\n",
    "            if(source[0:4] == 'http'):\n",
    "                Machine_lern.append(source)\n",
    "for i in range(len(Machine_lern)):\n",
    "    if i >10:\n",
    "        print(\"overload\")\n",
    "        break\n",
    "    print(\"Downloading {0} of {1} image\".format(i,10))\n",
    "    response= requests.get(Machine_lern[i])\n",
    "    file=open(r\"F:\"+ str(i)+\".jpeg\", \"wb\" )\n",
    "    file.write(response.content)"
   ]
  },
  {
   "cell_type": "code",
   "execution_count": 29,
   "id": "9bc291c3",
   "metadata": {},
   "outputs": [],
   "source": [
    "# ‘Cakes’\n",
    "srch_tag= driver.find_element(By.XPATH, '/html/body/c-wiz/c-wiz/div/div[3]/div[2]/div/div[1]/form/div[1]/div[2]/div/div[2]/input')\n",
    "srch_tag.clear()"
   ]
  },
  {
   "cell_type": "code",
   "execution_count": 30,
   "id": "3bae4e45",
   "metadata": {},
   "outputs": [],
   "source": [
    "srch_tag.send_keys('Cakes')\n"
   ]
  },
  {
   "cell_type": "code",
   "execution_count": 31,
   "id": "b5ad4da5",
   "metadata": {},
   "outputs": [],
   "source": [
    "srch_icon=driver.find_element(By.XPATH, '/html/body/c-wiz/c-wiz/div/div[3]/div[2]/div/div[1]/form/div[1]/div[2]/button')\n",
    "srch_icon.click()"
   ]
  },
  {
   "cell_type": "code",
   "execution_count": 32,
   "id": "11a6fb07",
   "metadata": {},
   "outputs": [
    {
     "name": "stdout",
     "output_type": "stream",
     "text": [
      "Downloading 0 of 10 image\n",
      "Downloading 1 of 10 image\n"
     ]
    }
   ],
   "source": [
    "#scraping and downloading the cakes images(first 10)\n",
    "cakes=[]\n",
    "cake_tag=driver.find_elements(By.XPATH,'//img[@class=\"rg_i Q4LuWd\"]')\n",
    "for i in cake_tag:\n",
    "    source=i.get_attribute('src')\n",
    "    if source is not None:\n",
    "            if(source[0:4] == 'http'):\n",
    "                cakes.append(source)\n",
    "for i in range(len(cakes)):\n",
    "    if i >10:\n",
    "        print(\"overload\")\n",
    "        break\n",
    "    print(\"Downloading {0} of {1} image\".format(i,10))\n",
    "    response= requests.get(cakes[i])\n",
    "    file=open(r\"F:\"+ str(i)+\".jpeg\", \"wb\" )\n",
    "    file.write(response.content)"
   ]
  },
  {
   "cell_type": "markdown",
   "id": "bee314c0",
   "metadata": {},
   "source": [
    "Q.4) Write a python program to search for a smartphone(e.g.: Oneplus Nord, pixel 4A, etc.) on\n",
    "www.flipkart.com and scrape following details for all the search results displayed on 1st page. Details to be \n",
    "scraped: “Brand Name”, “Smartphone name”, “Colour”, “RAM”, “Storage(ROM)”, “Primary Camera”, \n",
    "“Secondary Camera”, “Display Size”, “Battery Capacity”, “Price”, “Product URL”. Incase if any of the \n",
    "details is missing then replace it by “- “. Save your results in a dataframe and CSV.\n"
   ]
  },
  {
   "cell_type": "code",
   "execution_count": 33,
   "id": "6ed95c39",
   "metadata": {},
   "outputs": [],
   "source": [
    "#getting the web page\n",
    "url='https://www.flipkart.com/'\n",
    "driver.get(url)"
   ]
  },
  {
   "cell_type": "code",
   "execution_count": 34,
   "id": "9cade955",
   "metadata": {},
   "outputs": [
    {
     "data": {
      "text/plain": [
       "<selenium.webdriver.remote.webelement.WebElement (session=\"c88aae1629b143ebe04061fc0c2bbdf9\", element=\"8530721b-6031-4bde-9b37-28f7c1206115\")>"
      ]
     },
     "execution_count": 34,
     "metadata": {},
     "output_type": "execute_result"
    }
   ],
   "source": [
    "#finding web element for search bar\n",
    "srch_tag=driver.find_element(By.XPATH,'/html/body/div[1]/div/div[1]/div[1]/div[2]/div[2]/form/div/div/input')\n",
    "srch_tag"
   ]
  },
  {
   "cell_type": "code",
   "execution_count": 35,
   "id": "9a386efd",
   "metadata": {},
   "outputs": [],
   "source": [
    "#writing on the search bar\n",
    "srch_tag.send_keys('Smartphones')"
   ]
  },
  {
   "cell_type": "code",
   "execution_count": 37,
   "id": "cbb86c70",
   "metadata": {},
   "outputs": [],
   "source": [
    "#finding web element for search icon and click on search icon\n",
    "srch_icon=driver.find_element(By.XPATH,'/html/body/div/div/div[1]/div[1]/div[2]/div[2]/form/div/button')\n",
    "srch_icon.click()"
   ]
  },
  {
   "cell_type": "code",
   "execution_count": 38,
   "id": "3be6dc1b",
   "metadata": {},
   "outputs": [
    {
     "data": {
      "text/plain": [
       "['APPLE iPhone 11 (White, 128 GB)',\n",
       " 'POCO C31 (Shadow Gray, 64 GB)',\n",
       " 'POCO C31 (Shadow Gray, 32 GB)',\n",
       " 'Infinix Smart 6 HD (Force Black, 32 GB)',\n",
       " 'Infinix Smart 6 HD (Aqua Sky, 32 GB)',\n",
       " 'MOTOROLA e40 (Carbon Gray, 64 GB)',\n",
       " 'POCO C31 (Royal Blue, 64 GB)',\n",
       " 'Infinix Smart 6 HD (Origin Blue, 32 GB)',\n",
       " 'MOTOROLA G32 (Mineral Gray, 64 GB)',\n",
       " 'REDMI 9i Sport (Coral Green, 64 GB)',\n",
       " 'MOTOROLA g52 (Charcoal Grey, 128 GB)',\n",
       " 'MOTOROLA G62 5G (Midnight Gray, 128 GB)',\n",
       " 'POCO M4 Pro (Cool Blue, 64 GB)',\n",
       " 'POCO M4 Pro (Cool Blue, 128 GB)',\n",
       " 'MOTOROLA g52 (Charcoal Grey, 64 GB)',\n",
       " 'REDMI 10 (Midnight Black, 64 GB)',\n",
       " 'REDMI 10 (Caribbean Green, 64 GB)',\n",
       " 'MOTOROLA g42 (Atlantic Green, 64 GB)',\n",
       " 'Infinix Hot 12 (Exploratory Blue, 64 GB)',\n",
       " 'Infinix Hot 12 (7° Purple, 64 GB)',\n",
       " 'POCO C31 (Royal Blue, 32 GB)',\n",
       " 'POCO M4 Pro (Power Black, 128 GB)',\n",
       " 'realme C35 (Glowing Green, 128 GB)',\n",
       " 'POCO M4 5G (Power Black, 64 GB)']"
      ]
     },
     "execution_count": 38,
     "metadata": {},
     "output_type": "execute_result"
    }
   ],
   "source": [
    "#scraping title of product, from were other features can be scraped.\n",
    "title=[]\n",
    "t_tag=driver.find_elements(By.CLASS_NAME, \"_4rR01T\")\n",
    "for i in t_tag:\n",
    "    title.append(i.text)\n",
    "title"
   ]
  },
  {
   "cell_type": "code",
   "execution_count": 39,
   "id": "39dc027b",
   "metadata": {},
   "outputs": [
    {
     "data": {
      "text/plain": [
       "(24, 24, 24)"
      ]
     },
     "execution_count": 39,
     "metadata": {},
     "output_type": "execute_result"
    }
   ],
   "source": [
    "# scraping brand name, smartphone name, color from the above web element scraped\n",
    "brand_name=[]\n",
    "smrt_ph_name=[]\n",
    "color=[]\n",
    "ram=['-']\n",
    "for i in t_tag:\n",
    "    brand_name.append((i.text).split()[0])\n",
    "    smrt_ph_name.append((i.text).split('(')[0])\n",
    "    color.append(((i.text).split('(')[1]).split(',')[0])\n",
    "    \n",
    "\n",
    "len(brand_name),len(smrt_ph_name), len(color)"
   ]
  },
  {
   "cell_type": "code",
   "execution_count": 40,
   "id": "0be21f59",
   "metadata": {},
   "outputs": [],
   "source": [
    "#scraping RAM feature of product\n",
    "ram=['-']\n",
    "for i in t_tag[1:]:\n",
    "    ram.append(((i.text).split('(')[1]).split(',')[1].replace(')',' '))\n",
    "#len(ram)"
   ]
  },
  {
   "cell_type": "code",
   "execution_count": 41,
   "id": "0d0681ab",
   "metadata": {},
   "outputs": [
    {
     "data": {
      "text/plain": [
       "[['128 GB ROM',\n",
       "  '15.49 cm (6.1 inch) Liquid Retina HD Display',\n",
       "  '12MP + 12MP | 12MP Front Camera',\n",
       "  'A13 Bionic Chip Processor',\n",
       "  'Brand Warranty of 1 Year'],\n",
       " ['4 GB RAM | 64 GB ROM | Expandable Upto 512 GB',\n",
       "  '16.59 cm (6.53 inch) HD+ Display',\n",
       "  '13MP + 2MP + 2MP | 5MP Front Camera',\n",
       "  '5000 mAh Lithium-ion Polymer Battery',\n",
       "  'MediaTek Helio G35 Processor',\n",
       "  '1 Year Warranty for Handset, 6 Months for Accessories'],\n",
       " ['3 GB RAM | 32 GB ROM | Expandable Upto 512 GB',\n",
       "  '16.59 cm (6.53 inch) HD+ Display',\n",
       "  '13MP + 2MP + 2MP | 5MP Front Camera',\n",
       "  '5000 mAh Lithium-ion Polymer Battery',\n",
       "  'MediaTek Helio G35 Processor',\n",
       "  '1 Year Warranty for Handset, 6 Months for Accessories'],\n",
       " ['2 GB RAM | 32 GB ROM | Expandable Upto 512 GB',\n",
       "  '16.76 cm (6.6 inch) HD+ Display',\n",
       "  '8MP Rear Camera | 5MP Front Camera',\n",
       "  '5000 mAh Lithium-ion Polymer Battery',\n",
       "  'Mediatek Helio A22 Processor',\n",
       "  '1 Year on Handset and 6 Months on Accessories'],\n",
       " ['2 GB RAM | 32 GB ROM | Expandable Upto 512 GB',\n",
       "  '16.76 cm (6.6 inch) HD+ Display',\n",
       "  '8MP Rear Camera | 5MP Front Camera',\n",
       "  '5000 mAh Lithium-ion Polymer Battery',\n",
       "  'Mediatek Helio A22 Processor',\n",
       "  '1 Year on Handset and 6 Months on Accessories'],\n",
       " ['4 GB RAM | 64 GB ROM | Expandable Upto 1 TB',\n",
       "  '16.51 cm (6.5 inch) HD+ Display',\n",
       "  '48MP + 2MP + 2MP | 8MP Front Camera',\n",
       "  '5000 mAh Battery',\n",
       "  'UNISOC T700 Processor',\n",
       "  '1 Year on Handset and 6 Months on Accessories'],\n",
       " ['4 GB RAM | 64 GB ROM | Expandable Upto 512 GB',\n",
       "  '16.59 cm (6.53 inch) HD+ Display',\n",
       "  '13MP + 2MP + 2MP | 5MP Front Camera',\n",
       "  '5000 mAh Lithium-ion Polymer Battery',\n",
       "  'MediaTek G35 Processor',\n",
       "  '1 Year Warranty for Handset, 6 Months for Accessories'],\n",
       " ['2 GB RAM | 32 GB ROM | Expandable Upto 512 GB',\n",
       "  '16.76 cm (6.6 inch) HD+ Display',\n",
       "  '8MP Rear Camera | 5MP Front Camera',\n",
       "  '5000 mAh Lithium-ion Polymer Battery',\n",
       "  'Mediatek Helio A22 Processor',\n",
       "  '1 Year on Handset and 6 Months on Accessories'],\n",
       " ['4 GB RAM | 64 GB ROM',\n",
       "  '16.64 cm (6.55 inch) Full HD+ Display',\n",
       "  '50MP + 8MP + 2MP | 16MP Front Camera',\n",
       "  '5000 mAh Lithium Polymer Battery',\n",
       "  'Qualcomm Snapdragon 680 Processor',\n",
       "  '1 Year on Handset and 6 Months on Accessories'],\n",
       " ['4 GB RAM | 64 GB ROM | Expandable Upto 512 GB',\n",
       "  '16.59 cm (6.53 inch) HD+ Display',\n",
       "  '13MP Rear Camera | 5MP Front Camera',\n",
       "  '5000 mAh Li-Polymer Battery',\n",
       "  'MediaTek Helio G25 Processor',\n",
       "  'Brand Warranty of 1 Year Available for Mobile and 6 Months for Accessories'],\n",
       " ['6 GB RAM | 128 GB ROM',\n",
       "  '16.76 cm (6.6 inch) Full HD+ Display',\n",
       "  '50MP + 8MP + 2MP | 16MP Front Camera',\n",
       "  '5000 mAh Lithium Battery',\n",
       "  'Qualcomm Snapdragon 680 Processor',\n",
       "  '1 Year on Handset and 6 Months on Accessories'],\n",
       " ['6 GB RAM | 128 GB ROM',\n",
       "  '16.64 cm (6.55 inch) Full HD+ Display',\n",
       "  '50MP + 8MP + 2MP | 16MP Front Camera',\n",
       "  '5000 mAh Lithium Polymer Battery',\n",
       "  'Qualcomm Snapdragon 695 5G Processor',\n",
       "  '1 Year on Handset and 6 Months on Accessories'],\n",
       " ['6 GB RAM | 64 GB ROM | Expandable Upto 1 TB',\n",
       "  '16.33 cm (6.43 inch) Full HD+ AMOLED Display',\n",
       "  '64MP + 8MP + 2MP | 16MP Front Camera',\n",
       "  '5000 mAh Lithium-ion Polymer Battery',\n",
       "  'Mediatek Helio G96 Processor',\n",
       "  'One Year for Handset, 6 Months for Accessories'],\n",
       " ['6 GB RAM | 128 GB ROM | Expandable Upto 1 TB',\n",
       "  '16.33 cm (6.43 inch) Full HD+ AMOLED Display',\n",
       "  '64MP + 8MP + 2MP | 16MP Front Camera',\n",
       "  '5000 mAh Lithium-ion Polymer Battery',\n",
       "  'Mediatek Helio G96 Processor',\n",
       "  'One Year for Handset, 6 Months for Accessories'],\n",
       " ['4 GB RAM | 64 GB ROM',\n",
       "  '16.76 cm (6.6 inch) Full HD+ Display',\n",
       "  '50MP + 8MP + 2MP | 16MP Front Camera',\n",
       "  '5000 mAh Lithium Battery',\n",
       "  'Qualcomm Snapdragon 680 Processor',\n",
       "  '1 Year on Handset and 6 Months on Accessories'],\n",
       " ['4 GB RAM | 64 GB ROM | Expandable Upto 1 TB',\n",
       "  '17.02 cm (6.7 inch) HD+ Display',\n",
       "  '50MP + 2MP | 5MP Front Camera',\n",
       "  '6000 mAh Lithium Polymer Battery',\n",
       "  'Qualcomm Snapdragon 680 Processor',\n",
       "  '1 Year Warranty for Phone and 6 Months Warranty for In-Box Accessories'],\n",
       " ['4 GB RAM | 64 GB ROM | Expandable Upto 1 TB',\n",
       "  '17.02 cm (6.7 inch) HD+ Display',\n",
       "  '50MP + 2MP | 5MP Front Camera',\n",
       "  '6000 mAh Lithium Polymer Battery',\n",
       "  'Qualcomm Snapdragon 680 Processor',\n",
       "  '1 Year Warranty for Phone and 6 Months Warranty for In-Box Accessories'],\n",
       " ['4 GB RAM | 64 GB ROM',\n",
       "  '16.43 cm (6.47 inch) Full HD+ AMOLED Display',\n",
       "  '50MP + 8MP + 2MP | 16MP Front Camera',\n",
       "  '5000 mAh Lithium polymer Battery',\n",
       "  'Qualcomm Snapdragon 680 Processor',\n",
       "  '1 Year on Handset and 6 Months on Accessories'],\n",
       " ['4 GB RAM | 64 GB ROM',\n",
       "  '17.32 cm (6.82 inch) HD+ Display',\n",
       "  '50 MP + 2 MP Depth Lens + AI Lens | 8MP Front Camera',\n",
       "  '6000 mAh Lithium-ion Polymer Battery',\n",
       "  'Meditek Helio G37 Processor',\n",
       "  '1 Year on Handset and 6 Months on Accessories'],\n",
       " ['4 GB RAM | 64 GB ROM',\n",
       "  '17.32 cm (6.82 inch) HD+ Display',\n",
       "  '50 MP + 2 MP Depth Lens + AI Lens | 8MP Front Camera',\n",
       "  '6000 mAh Lithium-ion Polymer Battery',\n",
       "  'Meditek Helio G37 Processor',\n",
       "  '1 Year on Handset and 6 Months on Accessories'],\n",
       " ['3 GB RAM | 32 GB ROM | Expandable Upto 512 GB',\n",
       "  '16.59 cm (6.53 inch) HD+ Display',\n",
       "  '13MP + 2MP + 2MP | 5MP Front Camera',\n",
       "  '5000 mAh Lithium-ion Polymer Battery',\n",
       "  'MediaTek Helio G35 Processor',\n",
       "  '1 Year Warranty for Handset, 6 Months for Accessories'],\n",
       " ['8 GB RAM | 128 GB ROM | Expandable Upto 1 TB',\n",
       "  '16.33 cm (6.43 inch) Full HD+ AMOLED Display',\n",
       "  '64MP + 8MP + 2MP | 16MP Front Camera',\n",
       "  '5000 mAh Lithium-ion Polymer Battery',\n",
       "  'Mediatek Helio G96 Processor',\n",
       "  'One Year for Handset, 6 Months for Accessories'],\n",
       " ['4 GB RAM | 128 GB ROM | Expandable Upto 1 TB',\n",
       "  '16.76 cm (6.6 inch) Full HD+ Display',\n",
       "  '50MP + 2MP + 0.3MP | 8MP Front Camera',\n",
       "  '5000 mAh Lithium Polymer Battery',\n",
       "  'Unisoc Tiger T616 Processor',\n",
       "  '1 Year Warranty for Phone and 6 Months Warranty for In-Box Accessories'],\n",
       " ['4 GB RAM | 64 GB ROM | Expandable Upto 512 GB',\n",
       "  '16.71 cm (6.58 inch) Full HD+ Display',\n",
       "  '50MP + 2MP | 8MP Front Camera',\n",
       "  '5000 mAh Lithium Ion Polymer Battery',\n",
       "  'Mediatek Dimensity 700 Processor',\n",
       "  '1 Year Warranty for Handset and 6 Months for Accessories']]"
      ]
     },
     "execution_count": 41,
     "metadata": {},
     "output_type": "execute_result"
    }
   ],
   "source": [
    "#scraping base description of product, from where required features description can be scraped \n",
    "des=[]\n",
    "des_tag=driver.find_elements(By.CLASS_NAME, \"fMghEO\")\n",
    "for i in des_tag:\n",
    "    des.append((i.text).split('\\n'))\n",
    "des"
   ]
  },
  {
   "cell_type": "code",
   "execution_count": 42,
   "id": "95940da0",
   "metadata": {},
   "outputs": [
    {
     "data": {
      "text/plain": [
       "(24, 24, 24, 24)"
      ]
     },
     "execution_count": 42,
     "metadata": {},
     "output_type": "execute_result"
    }
   ],
   "source": [
    "#scraping ROM,DISPLAY, Primary camera, battery capacity features of product\n",
    "rom=[]\n",
    "display=[]\n",
    "prim_camera=[]\n",
    "btry_cap=[]\n",
    "for i in des_tag:\n",
    "    rom.append((i.text).split('\\n')[0])\n",
    "    display.append((i.text).split('\\n')[1])\n",
    "    prim_camera.append((((i.text).split('\\n')[2]).split('|')[0]).replace('3000 mAh Battery','-'))\n",
    "    btry_cap.append(((i.text).split('\\n')[3]).replace('6 Months Manufacturer','3000 mAh Battery'))\n",
    "len(rom),len(display), len(prim_camera), len(btry_cap) "
   ]
  },
  {
   "cell_type": "code",
   "execution_count": 43,
   "id": "83febee9",
   "metadata": {},
   "outputs": [
    {
     "data": {
      "text/plain": [
       "24"
      ]
     },
     "execution_count": 43,
     "metadata": {},
     "output_type": "execute_result"
    }
   ],
   "source": [
    "#scraping secondary camera feature of product\n",
    "sec_camera=['-']\n",
    "for i in des_tag[1:5]:\n",
    "    sec_camera.append(((i.text).split('\\n')[2]).split('|')[1])\n",
    "sec_camera.append('-')\n",
    "for i in des_tag[6:]:\n",
    "    sec_camera.append(((i.text).split('\\n')[2]).split('|')[1])\n",
    "len(sec_camera)"
   ]
  },
  {
   "cell_type": "code",
   "execution_count": 44,
   "id": "e56796f4",
   "metadata": {},
   "outputs": [
    {
     "data": {
      "text/plain": [
       "24"
      ]
     },
     "execution_count": 44,
     "metadata": {},
     "output_type": "execute_result"
    }
   ],
   "source": [
    "#scraping price of product\n",
    "price=[]\n",
    "price_tag=driver.find_elements(By.XPATH,'//div[@class=\"_30jeq3 _1_WHN1\"]')\n",
    "for i in price_tag:\n",
    "    price.append(i.text)\n",
    "price\n",
    "len(price)"
   ]
  },
  {
   "cell_type": "code",
   "execution_count": 45,
   "id": "d25e72e0",
   "metadata": {},
   "outputs": [
    {
     "data": {
      "text/plain": [
       "24"
      ]
     },
     "execution_count": 45,
     "metadata": {},
     "output_type": "execute_result"
    }
   ],
   "source": [
    "#scraping urls of product\n",
    "p_urls=[]\n",
    "p_url_tag=driver.find_elements(By.XPATH,'//a[@class=\"_1fQZEK\"]')\n",
    "for i in p_url_tag:\n",
    "    p_urls.append(i.get_attribute('href'))\n",
    "p_urls\n",
    "len(p_urls)"
   ]
  },
  {
   "cell_type": "code",
   "execution_count": 46,
   "id": "530b68e9",
   "metadata": {},
   "outputs": [
    {
     "name": "stdout",
     "output_type": "stream",
     "text": [
      "Page 1 entry of smartphones in flipkart.com \n",
      "\n"
     ]
    },
    {
     "data": {
      "text/html": [
       "<div>\n",
       "<style scoped>\n",
       "    .dataframe tbody tr th:only-of-type {\n",
       "        vertical-align: middle;\n",
       "    }\n",
       "\n",
       "    .dataframe tbody tr th {\n",
       "        vertical-align: top;\n",
       "    }\n",
       "\n",
       "    .dataframe thead th {\n",
       "        text-align: right;\n",
       "    }\n",
       "</style>\n",
       "<table border=\"1\" class=\"dataframe\">\n",
       "  <thead>\n",
       "    <tr style=\"text-align: right;\">\n",
       "      <th></th>\n",
       "      <th>Brand Name</th>\n",
       "      <th>Smartphone name</th>\n",
       "      <th>Colour</th>\n",
       "      <th>RAM</th>\n",
       "      <th>Storage(ROM)</th>\n",
       "      <th>Primary Camera</th>\n",
       "      <th>Secondary Camera</th>\n",
       "      <th>Display Size</th>\n",
       "      <th>Battery Capacity</th>\n",
       "      <th>Price</th>\n",
       "      <th>Product URL</th>\n",
       "    </tr>\n",
       "  </thead>\n",
       "  <tbody>\n",
       "    <tr>\n",
       "      <th>0</th>\n",
       "      <td>APPLE</td>\n",
       "      <td>APPLE iPhone 11</td>\n",
       "      <td>White</td>\n",
       "      <td>-</td>\n",
       "      <td>128 GB ROM</td>\n",
       "      <td>12MP + 12MP</td>\n",
       "      <td>-</td>\n",
       "      <td>15.49 cm (6.1 inch) Liquid Retina HD Display</td>\n",
       "      <td>A13 Bionic Chip Processor</td>\n",
       "      <td>₹45,999</td>\n",
       "      <td>https://www.flipkart.com/apple-iphone-11-white...</td>\n",
       "    </tr>\n",
       "    <tr>\n",
       "      <th>1</th>\n",
       "      <td>POCO</td>\n",
       "      <td>POCO C31</td>\n",
       "      <td>Shadow Gray</td>\n",
       "      <td>64 GB</td>\n",
       "      <td>4 GB RAM | 64 GB ROM | Expandable Upto 512 GB</td>\n",
       "      <td>13MP + 2MP + 2MP</td>\n",
       "      <td>5MP Front Camera</td>\n",
       "      <td>16.59 cm (6.53 inch) HD+ Display</td>\n",
       "      <td>5000 mAh Lithium-ion Polymer Battery</td>\n",
       "      <td>₹7,749</td>\n",
       "      <td>https://www.flipkart.com/poco-c31-shadow-gray-...</td>\n",
       "    </tr>\n",
       "    <tr>\n",
       "      <th>2</th>\n",
       "      <td>POCO</td>\n",
       "      <td>POCO C31</td>\n",
       "      <td>Shadow Gray</td>\n",
       "      <td>32 GB</td>\n",
       "      <td>3 GB RAM | 32 GB ROM | Expandable Upto 512 GB</td>\n",
       "      <td>13MP + 2MP + 2MP</td>\n",
       "      <td>5MP Front Camera</td>\n",
       "      <td>16.59 cm (6.53 inch) HD+ Display</td>\n",
       "      <td>5000 mAh Lithium-ion Polymer Battery</td>\n",
       "      <td>₹6,499</td>\n",
       "      <td>https://www.flipkart.com/poco-c31-shadow-gray-...</td>\n",
       "    </tr>\n",
       "    <tr>\n",
       "      <th>3</th>\n",
       "      <td>Infinix</td>\n",
       "      <td>Infinix Smart 6 HD</td>\n",
       "      <td>Force Black</td>\n",
       "      <td>32 GB</td>\n",
       "      <td>2 GB RAM | 32 GB ROM | Expandable Upto 512 GB</td>\n",
       "      <td>8MP Rear Camera</td>\n",
       "      <td>5MP Front Camera</td>\n",
       "      <td>16.76 cm (6.6 inch) HD+ Display</td>\n",
       "      <td>5000 mAh Lithium-ion Polymer Battery</td>\n",
       "      <td>₹5,599</td>\n",
       "      <td>https://www.flipkart.com/infinix-smart-6-hd-fo...</td>\n",
       "    </tr>\n",
       "    <tr>\n",
       "      <th>4</th>\n",
       "      <td>Infinix</td>\n",
       "      <td>Infinix Smart 6 HD</td>\n",
       "      <td>Aqua Sky</td>\n",
       "      <td>32 GB</td>\n",
       "      <td>2 GB RAM | 32 GB ROM | Expandable Upto 512 GB</td>\n",
       "      <td>8MP Rear Camera</td>\n",
       "      <td>5MP Front Camera</td>\n",
       "      <td>16.76 cm (6.6 inch) HD+ Display</td>\n",
       "      <td>5000 mAh Lithium-ion Polymer Battery</td>\n",
       "      <td>₹5,599</td>\n",
       "      <td>https://www.flipkart.com/infinix-smart-6-hd-aq...</td>\n",
       "    </tr>\n",
       "    <tr>\n",
       "      <th>5</th>\n",
       "      <td>MOTOROLA</td>\n",
       "      <td>MOTOROLA e40</td>\n",
       "      <td>Carbon Gray</td>\n",
       "      <td>64 GB</td>\n",
       "      <td>4 GB RAM | 64 GB ROM | Expandable Upto 1 TB</td>\n",
       "      <td>48MP + 2MP + 2MP</td>\n",
       "      <td>-</td>\n",
       "      <td>16.51 cm (6.5 inch) HD+ Display</td>\n",
       "      <td>5000 mAh Battery</td>\n",
       "      <td>₹8,299</td>\n",
       "      <td>https://www.flipkart.com/motorola-e40-carbon-g...</td>\n",
       "    </tr>\n",
       "    <tr>\n",
       "      <th>6</th>\n",
       "      <td>POCO</td>\n",
       "      <td>POCO C31</td>\n",
       "      <td>Royal Blue</td>\n",
       "      <td>64 GB</td>\n",
       "      <td>4 GB RAM | 64 GB ROM | Expandable Upto 512 GB</td>\n",
       "      <td>13MP + 2MP + 2MP</td>\n",
       "      <td>5MP Front Camera</td>\n",
       "      <td>16.59 cm (6.53 inch) HD+ Display</td>\n",
       "      <td>5000 mAh Lithium-ion Polymer Battery</td>\n",
       "      <td>₹7,749</td>\n",
       "      <td>https://www.flipkart.com/poco-c31-royal-blue-6...</td>\n",
       "    </tr>\n",
       "    <tr>\n",
       "      <th>7</th>\n",
       "      <td>Infinix</td>\n",
       "      <td>Infinix Smart 6 HD</td>\n",
       "      <td>Origin Blue</td>\n",
       "      <td>32 GB</td>\n",
       "      <td>2 GB RAM | 32 GB ROM | Expandable Upto 512 GB</td>\n",
       "      <td>8MP Rear Camera</td>\n",
       "      <td>5MP Front Camera</td>\n",
       "      <td>16.76 cm (6.6 inch) HD+ Display</td>\n",
       "      <td>5000 mAh Lithium-ion Polymer Battery</td>\n",
       "      <td>₹5,599</td>\n",
       "      <td>https://www.flipkart.com/infinix-smart-6-hd-or...</td>\n",
       "    </tr>\n",
       "    <tr>\n",
       "      <th>8</th>\n",
       "      <td>MOTOROLA</td>\n",
       "      <td>MOTOROLA G32</td>\n",
       "      <td>Mineral Gray</td>\n",
       "      <td>64 GB</td>\n",
       "      <td>4 GB RAM | 64 GB ROM</td>\n",
       "      <td>50MP + 8MP + 2MP</td>\n",
       "      <td>16MP Front Camera</td>\n",
       "      <td>16.64 cm (6.55 inch) Full HD+ Display</td>\n",
       "      <td>5000 mAh Lithium Polymer Battery</td>\n",
       "      <td>₹10,499</td>\n",
       "      <td>https://www.flipkart.com/motorola-g32-mineral-...</td>\n",
       "    </tr>\n",
       "    <tr>\n",
       "      <th>9</th>\n",
       "      <td>REDMI</td>\n",
       "      <td>REDMI 9i Sport</td>\n",
       "      <td>Coral Green</td>\n",
       "      <td>64 GB</td>\n",
       "      <td>4 GB RAM | 64 GB ROM | Expandable Upto 512 GB</td>\n",
       "      <td>13MP Rear Camera</td>\n",
       "      <td>5MP Front Camera</td>\n",
       "      <td>16.59 cm (6.53 inch) HD+ Display</td>\n",
       "      <td>5000 mAh Li-Polymer Battery</td>\n",
       "      <td>₹7,499</td>\n",
       "      <td>https://www.flipkart.com/redmi-9i-sport-coral-...</td>\n",
       "    </tr>\n",
       "    <tr>\n",
       "      <th>10</th>\n",
       "      <td>MOTOROLA</td>\n",
       "      <td>MOTOROLA g52</td>\n",
       "      <td>Charcoal Grey</td>\n",
       "      <td>128 GB</td>\n",
       "      <td>6 GB RAM | 128 GB ROM</td>\n",
       "      <td>50MP + 8MP + 2MP</td>\n",
       "      <td>16MP Front Camera</td>\n",
       "      <td>16.76 cm (6.6 inch) Full HD+ Display</td>\n",
       "      <td>5000 mAh Lithium Battery</td>\n",
       "      <td>₹12,999</td>\n",
       "      <td>https://www.flipkart.com/motorola-g52-charcoal...</td>\n",
       "    </tr>\n",
       "    <tr>\n",
       "      <th>11</th>\n",
       "      <td>MOTOROLA</td>\n",
       "      <td>MOTOROLA G62 5G</td>\n",
       "      <td>Midnight Gray</td>\n",
       "      <td>128 GB</td>\n",
       "      <td>6 GB RAM | 128 GB ROM</td>\n",
       "      <td>50MP + 8MP + 2MP</td>\n",
       "      <td>16MP Front Camera</td>\n",
       "      <td>16.64 cm (6.55 inch) Full HD+ Display</td>\n",
       "      <td>5000 mAh Lithium Polymer Battery</td>\n",
       "      <td>₹14,999</td>\n",
       "      <td>https://www.flipkart.com/motorola-g62-5g-midni...</td>\n",
       "    </tr>\n",
       "    <tr>\n",
       "      <th>12</th>\n",
       "      <td>POCO</td>\n",
       "      <td>POCO M4 Pro</td>\n",
       "      <td>Cool Blue</td>\n",
       "      <td>64 GB</td>\n",
       "      <td>6 GB RAM | 64 GB ROM | Expandable Upto 1 TB</td>\n",
       "      <td>64MP + 8MP + 2MP</td>\n",
       "      <td>16MP Front Camera</td>\n",
       "      <td>16.33 cm (6.43 inch) Full HD+ AMOLED Display</td>\n",
       "      <td>5000 mAh Lithium-ion Polymer Battery</td>\n",
       "      <td>₹11,999</td>\n",
       "      <td>https://www.flipkart.com/poco-m4-pro-cool-blue...</td>\n",
       "    </tr>\n",
       "    <tr>\n",
       "      <th>13</th>\n",
       "      <td>POCO</td>\n",
       "      <td>POCO M4 Pro</td>\n",
       "      <td>Cool Blue</td>\n",
       "      <td>128 GB</td>\n",
       "      <td>6 GB RAM | 128 GB ROM | Expandable Upto 1 TB</td>\n",
       "      <td>64MP + 8MP + 2MP</td>\n",
       "      <td>16MP Front Camera</td>\n",
       "      <td>16.33 cm (6.43 inch) Full HD+ AMOLED Display</td>\n",
       "      <td>5000 mAh Lithium-ion Polymer Battery</td>\n",
       "      <td>₹12,999</td>\n",
       "      <td>https://www.flipkart.com/poco-m4-pro-cool-blue...</td>\n",
       "    </tr>\n",
       "    <tr>\n",
       "      <th>14</th>\n",
       "      <td>MOTOROLA</td>\n",
       "      <td>MOTOROLA g52</td>\n",
       "      <td>Charcoal Grey</td>\n",
       "      <td>64 GB</td>\n",
       "      <td>4 GB RAM | 64 GB ROM</td>\n",
       "      <td>50MP + 8MP + 2MP</td>\n",
       "      <td>16MP Front Camera</td>\n",
       "      <td>16.76 cm (6.6 inch) Full HD+ Display</td>\n",
       "      <td>5000 mAh Lithium Battery</td>\n",
       "      <td>₹10,999</td>\n",
       "      <td>https://www.flipkart.com/motorola-g52-charcoal...</td>\n",
       "    </tr>\n",
       "    <tr>\n",
       "      <th>15</th>\n",
       "      <td>REDMI</td>\n",
       "      <td>REDMI 10</td>\n",
       "      <td>Midnight Black</td>\n",
       "      <td>64 GB</td>\n",
       "      <td>4 GB RAM | 64 GB ROM | Expandable Upto 1 TB</td>\n",
       "      <td>50MP + 2MP</td>\n",
       "      <td>5MP Front Camera</td>\n",
       "      <td>17.02 cm (6.7 inch) HD+ Display</td>\n",
       "      <td>6000 mAh Lithium Polymer Battery</td>\n",
       "      <td>₹9,999</td>\n",
       "      <td>https://www.flipkart.com/redmi-10-midnight-bla...</td>\n",
       "    </tr>\n",
       "    <tr>\n",
       "      <th>16</th>\n",
       "      <td>REDMI</td>\n",
       "      <td>REDMI 10</td>\n",
       "      <td>Caribbean Green</td>\n",
       "      <td>64 GB</td>\n",
       "      <td>4 GB RAM | 64 GB ROM | Expandable Upto 1 TB</td>\n",
       "      <td>50MP + 2MP</td>\n",
       "      <td>5MP Front Camera</td>\n",
       "      <td>17.02 cm (6.7 inch) HD+ Display</td>\n",
       "      <td>6000 mAh Lithium Polymer Battery</td>\n",
       "      <td>₹9,999</td>\n",
       "      <td>https://www.flipkart.com/redmi-10-caribbean-gr...</td>\n",
       "    </tr>\n",
       "    <tr>\n",
       "      <th>17</th>\n",
       "      <td>MOTOROLA</td>\n",
       "      <td>MOTOROLA g42</td>\n",
       "      <td>Atlantic Green</td>\n",
       "      <td>64 GB</td>\n",
       "      <td>4 GB RAM | 64 GB ROM</td>\n",
       "      <td>50MP + 8MP + 2MP</td>\n",
       "      <td>16MP Front Camera</td>\n",
       "      <td>16.43 cm (6.47 inch) Full HD+ AMOLED Display</td>\n",
       "      <td>5000 mAh Lithium polymer Battery</td>\n",
       "      <td>₹10,999</td>\n",
       "      <td>https://www.flipkart.com/motorola-g42-atlantic...</td>\n",
       "    </tr>\n",
       "    <tr>\n",
       "      <th>18</th>\n",
       "      <td>Infinix</td>\n",
       "      <td>Infinix Hot 12</td>\n",
       "      <td>Exploratory Blue</td>\n",
       "      <td>64 GB</td>\n",
       "      <td>4 GB RAM | 64 GB ROM</td>\n",
       "      <td>50 MP + 2 MP Depth Lens + AI Lens</td>\n",
       "      <td>8MP Front Camera</td>\n",
       "      <td>17.32 cm (6.82 inch) HD+ Display</td>\n",
       "      <td>6000 mAh Lithium-ion Polymer Battery</td>\n",
       "      <td>₹8,499</td>\n",
       "      <td>https://www.flipkart.com/infinix-hot-12-explor...</td>\n",
       "    </tr>\n",
       "    <tr>\n",
       "      <th>19</th>\n",
       "      <td>Infinix</td>\n",
       "      <td>Infinix Hot 12</td>\n",
       "      <td>7° Purple</td>\n",
       "      <td>64 GB</td>\n",
       "      <td>4 GB RAM | 64 GB ROM</td>\n",
       "      <td>50 MP + 2 MP Depth Lens + AI Lens</td>\n",
       "      <td>8MP Front Camera</td>\n",
       "      <td>17.32 cm (6.82 inch) HD+ Display</td>\n",
       "      <td>6000 mAh Lithium-ion Polymer Battery</td>\n",
       "      <td>₹8,499</td>\n",
       "      <td>https://www.flipkart.com/infinix-hot-12-7-purp...</td>\n",
       "    </tr>\n",
       "    <tr>\n",
       "      <th>20</th>\n",
       "      <td>POCO</td>\n",
       "      <td>POCO C31</td>\n",
       "      <td>Royal Blue</td>\n",
       "      <td>32 GB</td>\n",
       "      <td>3 GB RAM | 32 GB ROM | Expandable Upto 512 GB</td>\n",
       "      <td>13MP + 2MP + 2MP</td>\n",
       "      <td>5MP Front Camera</td>\n",
       "      <td>16.59 cm (6.53 inch) HD+ Display</td>\n",
       "      <td>5000 mAh Lithium-ion Polymer Battery</td>\n",
       "      <td>₹6,499</td>\n",
       "      <td>https://www.flipkart.com/poco-c31-royal-blue-3...</td>\n",
       "    </tr>\n",
       "    <tr>\n",
       "      <th>21</th>\n",
       "      <td>POCO</td>\n",
       "      <td>POCO M4 Pro</td>\n",
       "      <td>Power Black</td>\n",
       "      <td>128 GB</td>\n",
       "      <td>8 GB RAM | 128 GB ROM | Expandable Upto 1 TB</td>\n",
       "      <td>64MP + 8MP + 2MP</td>\n",
       "      <td>16MP Front Camera</td>\n",
       "      <td>16.33 cm (6.43 inch) Full HD+ AMOLED Display</td>\n",
       "      <td>5000 mAh Lithium-ion Polymer Battery</td>\n",
       "      <td>₹13,999</td>\n",
       "      <td>https://www.flipkart.com/poco-m4-pro-power-bla...</td>\n",
       "    </tr>\n",
       "    <tr>\n",
       "      <th>22</th>\n",
       "      <td>realme</td>\n",
       "      <td>realme C35</td>\n",
       "      <td>Glowing Green</td>\n",
       "      <td>128 GB</td>\n",
       "      <td>4 GB RAM | 128 GB ROM | Expandable Upto 1 TB</td>\n",
       "      <td>50MP + 2MP + 0.3MP</td>\n",
       "      <td>8MP Front Camera</td>\n",
       "      <td>16.76 cm (6.6 inch) Full HD+ Display</td>\n",
       "      <td>5000 mAh Lithium Polymer Battery</td>\n",
       "      <td>₹12,999</td>\n",
       "      <td>https://www.flipkart.com/realme-c35-glowing-gr...</td>\n",
       "    </tr>\n",
       "    <tr>\n",
       "      <th>23</th>\n",
       "      <td>POCO</td>\n",
       "      <td>POCO M4 5G</td>\n",
       "      <td>Power Black</td>\n",
       "      <td>64 GB</td>\n",
       "      <td>4 GB RAM | 64 GB ROM | Expandable Upto 512 GB</td>\n",
       "      <td>50MP + 2MP</td>\n",
       "      <td>8MP Front Camera</td>\n",
       "      <td>16.71 cm (6.58 inch) Full HD+ Display</td>\n",
       "      <td>5000 mAh Lithium Ion Polymer Battery</td>\n",
       "      <td>₹11,999</td>\n",
       "      <td>https://www.flipkart.com/poco-m4-5g-power-blac...</td>\n",
       "    </tr>\n",
       "  </tbody>\n",
       "</table>\n",
       "</div>"
      ],
      "text/plain": [
       "   Brand Name      Smartphone name            Colour       RAM  \\\n",
       "0       APPLE     APPLE iPhone 11              White         -   \n",
       "1        POCO            POCO C31        Shadow Gray    64 GB    \n",
       "2        POCO            POCO C31        Shadow Gray    32 GB    \n",
       "3     Infinix  Infinix Smart 6 HD        Force Black    32 GB    \n",
       "4     Infinix  Infinix Smart 6 HD           Aqua Sky    32 GB    \n",
       "5    MOTOROLA        MOTOROLA e40        Carbon Gray    64 GB    \n",
       "6        POCO            POCO C31         Royal Blue    64 GB    \n",
       "7     Infinix  Infinix Smart 6 HD        Origin Blue    32 GB    \n",
       "8    MOTOROLA        MOTOROLA G32       Mineral Gray    64 GB    \n",
       "9       REDMI      REDMI 9i Sport        Coral Green    64 GB    \n",
       "10   MOTOROLA        MOTOROLA g52      Charcoal Grey   128 GB    \n",
       "11   MOTOROLA     MOTOROLA G62 5G      Midnight Gray   128 GB    \n",
       "12       POCO         POCO M4 Pro          Cool Blue    64 GB    \n",
       "13       POCO         POCO M4 Pro          Cool Blue   128 GB    \n",
       "14   MOTOROLA        MOTOROLA g52      Charcoal Grey    64 GB    \n",
       "15      REDMI            REDMI 10     Midnight Black    64 GB    \n",
       "16      REDMI            REDMI 10    Caribbean Green    64 GB    \n",
       "17   MOTOROLA        MOTOROLA g42     Atlantic Green    64 GB    \n",
       "18    Infinix      Infinix Hot 12   Exploratory Blue    64 GB    \n",
       "19    Infinix      Infinix Hot 12          7° Purple    64 GB    \n",
       "20       POCO            POCO C31         Royal Blue    32 GB    \n",
       "21       POCO         POCO M4 Pro        Power Black   128 GB    \n",
       "22     realme          realme C35      Glowing Green   128 GB    \n",
       "23       POCO          POCO M4 5G        Power Black    64 GB    \n",
       "\n",
       "                                     Storage(ROM)  \\\n",
       "0                                      128 GB ROM   \n",
       "1   4 GB RAM | 64 GB ROM | Expandable Upto 512 GB   \n",
       "2   3 GB RAM | 32 GB ROM | Expandable Upto 512 GB   \n",
       "3   2 GB RAM | 32 GB ROM | Expandable Upto 512 GB   \n",
       "4   2 GB RAM | 32 GB ROM | Expandable Upto 512 GB   \n",
       "5     4 GB RAM | 64 GB ROM | Expandable Upto 1 TB   \n",
       "6   4 GB RAM | 64 GB ROM | Expandable Upto 512 GB   \n",
       "7   2 GB RAM | 32 GB ROM | Expandable Upto 512 GB   \n",
       "8                            4 GB RAM | 64 GB ROM   \n",
       "9   4 GB RAM | 64 GB ROM | Expandable Upto 512 GB   \n",
       "10                          6 GB RAM | 128 GB ROM   \n",
       "11                          6 GB RAM | 128 GB ROM   \n",
       "12    6 GB RAM | 64 GB ROM | Expandable Upto 1 TB   \n",
       "13   6 GB RAM | 128 GB ROM | Expandable Upto 1 TB   \n",
       "14                           4 GB RAM | 64 GB ROM   \n",
       "15    4 GB RAM | 64 GB ROM | Expandable Upto 1 TB   \n",
       "16    4 GB RAM | 64 GB ROM | Expandable Upto 1 TB   \n",
       "17                           4 GB RAM | 64 GB ROM   \n",
       "18                           4 GB RAM | 64 GB ROM   \n",
       "19                           4 GB RAM | 64 GB ROM   \n",
       "20  3 GB RAM | 32 GB ROM | Expandable Upto 512 GB   \n",
       "21   8 GB RAM | 128 GB ROM | Expandable Upto 1 TB   \n",
       "22   4 GB RAM | 128 GB ROM | Expandable Upto 1 TB   \n",
       "23  4 GB RAM | 64 GB ROM | Expandable Upto 512 GB   \n",
       "\n",
       "                        Primary Camera    Secondary Camera  \\\n",
       "0                         12MP + 12MP                    -   \n",
       "1                    13MP + 2MP + 2MP     5MP Front Camera   \n",
       "2                    13MP + 2MP + 2MP     5MP Front Camera   \n",
       "3                     8MP Rear Camera     5MP Front Camera   \n",
       "4                     8MP Rear Camera     5MP Front Camera   \n",
       "5                    48MP + 2MP + 2MP                    -   \n",
       "6                    13MP + 2MP + 2MP     5MP Front Camera   \n",
       "7                     8MP Rear Camera     5MP Front Camera   \n",
       "8                    50MP + 8MP + 2MP    16MP Front Camera   \n",
       "9                    13MP Rear Camera     5MP Front Camera   \n",
       "10                   50MP + 8MP + 2MP    16MP Front Camera   \n",
       "11                   50MP + 8MP + 2MP    16MP Front Camera   \n",
       "12                   64MP + 8MP + 2MP    16MP Front Camera   \n",
       "13                   64MP + 8MP + 2MP    16MP Front Camera   \n",
       "14                   50MP + 8MP + 2MP    16MP Front Camera   \n",
       "15                         50MP + 2MP     5MP Front Camera   \n",
       "16                         50MP + 2MP     5MP Front Camera   \n",
       "17                   50MP + 8MP + 2MP    16MP Front Camera   \n",
       "18  50 MP + 2 MP Depth Lens + AI Lens     8MP Front Camera   \n",
       "19  50 MP + 2 MP Depth Lens + AI Lens     8MP Front Camera   \n",
       "20                   13MP + 2MP + 2MP     5MP Front Camera   \n",
       "21                   64MP + 8MP + 2MP    16MP Front Camera   \n",
       "22                 50MP + 2MP + 0.3MP     8MP Front Camera   \n",
       "23                         50MP + 2MP     8MP Front Camera   \n",
       "\n",
       "                                    Display Size  \\\n",
       "0   15.49 cm (6.1 inch) Liquid Retina HD Display   \n",
       "1               16.59 cm (6.53 inch) HD+ Display   \n",
       "2               16.59 cm (6.53 inch) HD+ Display   \n",
       "3                16.76 cm (6.6 inch) HD+ Display   \n",
       "4                16.76 cm (6.6 inch) HD+ Display   \n",
       "5                16.51 cm (6.5 inch) HD+ Display   \n",
       "6               16.59 cm (6.53 inch) HD+ Display   \n",
       "7                16.76 cm (6.6 inch) HD+ Display   \n",
       "8          16.64 cm (6.55 inch) Full HD+ Display   \n",
       "9               16.59 cm (6.53 inch) HD+ Display   \n",
       "10          16.76 cm (6.6 inch) Full HD+ Display   \n",
       "11         16.64 cm (6.55 inch) Full HD+ Display   \n",
       "12  16.33 cm (6.43 inch) Full HD+ AMOLED Display   \n",
       "13  16.33 cm (6.43 inch) Full HD+ AMOLED Display   \n",
       "14          16.76 cm (6.6 inch) Full HD+ Display   \n",
       "15               17.02 cm (6.7 inch) HD+ Display   \n",
       "16               17.02 cm (6.7 inch) HD+ Display   \n",
       "17  16.43 cm (6.47 inch) Full HD+ AMOLED Display   \n",
       "18              17.32 cm (6.82 inch) HD+ Display   \n",
       "19              17.32 cm (6.82 inch) HD+ Display   \n",
       "20              16.59 cm (6.53 inch) HD+ Display   \n",
       "21  16.33 cm (6.43 inch) Full HD+ AMOLED Display   \n",
       "22          16.76 cm (6.6 inch) Full HD+ Display   \n",
       "23         16.71 cm (6.58 inch) Full HD+ Display   \n",
       "\n",
       "                        Battery Capacity    Price  \\\n",
       "0              A13 Bionic Chip Processor  ₹45,999   \n",
       "1   5000 mAh Lithium-ion Polymer Battery   ₹7,749   \n",
       "2   5000 mAh Lithium-ion Polymer Battery   ₹6,499   \n",
       "3   5000 mAh Lithium-ion Polymer Battery   ₹5,599   \n",
       "4   5000 mAh Lithium-ion Polymer Battery   ₹5,599   \n",
       "5                       5000 mAh Battery   ₹8,299   \n",
       "6   5000 mAh Lithium-ion Polymer Battery   ₹7,749   \n",
       "7   5000 mAh Lithium-ion Polymer Battery   ₹5,599   \n",
       "8       5000 mAh Lithium Polymer Battery  ₹10,499   \n",
       "9            5000 mAh Li-Polymer Battery   ₹7,499   \n",
       "10              5000 mAh Lithium Battery  ₹12,999   \n",
       "11      5000 mAh Lithium Polymer Battery  ₹14,999   \n",
       "12  5000 mAh Lithium-ion Polymer Battery  ₹11,999   \n",
       "13  5000 mAh Lithium-ion Polymer Battery  ₹12,999   \n",
       "14              5000 mAh Lithium Battery  ₹10,999   \n",
       "15      6000 mAh Lithium Polymer Battery   ₹9,999   \n",
       "16      6000 mAh Lithium Polymer Battery   ₹9,999   \n",
       "17      5000 mAh Lithium polymer Battery  ₹10,999   \n",
       "18  6000 mAh Lithium-ion Polymer Battery   ₹8,499   \n",
       "19  6000 mAh Lithium-ion Polymer Battery   ₹8,499   \n",
       "20  5000 mAh Lithium-ion Polymer Battery   ₹6,499   \n",
       "21  5000 mAh Lithium-ion Polymer Battery  ₹13,999   \n",
       "22      5000 mAh Lithium Polymer Battery  ₹12,999   \n",
       "23  5000 mAh Lithium Ion Polymer Battery  ₹11,999   \n",
       "\n",
       "                                          Product URL  \n",
       "0   https://www.flipkart.com/apple-iphone-11-white...  \n",
       "1   https://www.flipkart.com/poco-c31-shadow-gray-...  \n",
       "2   https://www.flipkart.com/poco-c31-shadow-gray-...  \n",
       "3   https://www.flipkart.com/infinix-smart-6-hd-fo...  \n",
       "4   https://www.flipkart.com/infinix-smart-6-hd-aq...  \n",
       "5   https://www.flipkart.com/motorola-e40-carbon-g...  \n",
       "6   https://www.flipkart.com/poco-c31-royal-blue-6...  \n",
       "7   https://www.flipkart.com/infinix-smart-6-hd-or...  \n",
       "8   https://www.flipkart.com/motorola-g32-mineral-...  \n",
       "9   https://www.flipkart.com/redmi-9i-sport-coral-...  \n",
       "10  https://www.flipkart.com/motorola-g52-charcoal...  \n",
       "11  https://www.flipkart.com/motorola-g62-5g-midni...  \n",
       "12  https://www.flipkart.com/poco-m4-pro-cool-blue...  \n",
       "13  https://www.flipkart.com/poco-m4-pro-cool-blue...  \n",
       "14  https://www.flipkart.com/motorola-g52-charcoal...  \n",
       "15  https://www.flipkart.com/redmi-10-midnight-bla...  \n",
       "16  https://www.flipkart.com/redmi-10-caribbean-gr...  \n",
       "17  https://www.flipkart.com/motorola-g42-atlantic...  \n",
       "18  https://www.flipkart.com/infinix-hot-12-explor...  \n",
       "19  https://www.flipkart.com/infinix-hot-12-7-purp...  \n",
       "20  https://www.flipkart.com/poco-c31-royal-blue-3...  \n",
       "21  https://www.flipkart.com/poco-m4-pro-power-bla...  \n",
       "22  https://www.flipkart.com/realme-c35-glowing-gr...  \n",
       "23  https://www.flipkart.com/poco-m4-5g-power-blac...  "
      ]
     },
     "execution_count": 46,
     "metadata": {},
     "output_type": "execute_result"
    }
   ],
   "source": [
    "#Preparing Dataframe of the Smartphones\n",
    "s_phn= pd.DataFrame({'Brand Name':brand_name, 'Smartphone name': smrt_ph_name, 'Colour':color,\n",
    "                     'RAM':ram, 'Storage(ROM)':rom, 'Primary Camera':prim_camera,\n",
    "                     'Secondary Camera':sec_camera, 'Display Size':display, 'Battery Capacity':btry_cap,\n",
    "                     'Price':price, 'Product URL': p_urls})\n",
    "print(\"Page 1 entry of smartphones in flipkart.com \\n\")\n",
    "s_phn"
   ]
  },
  {
   "cell_type": "markdown",
   "id": "e0a940e6",
   "metadata": {},
   "source": [
    "Q5. Write a program to scrap geospatial coordinates (latitude, longitude) of a city searched on google\n",
    "maps.\n"
   ]
  },
  {
   "cell_type": "code",
   "execution_count": 9,
   "id": "742a781a",
   "metadata": {},
   "outputs": [],
   "source": [
    "#getting the webpage\n",
    "\n",
    "url='https://maps.google.co.in'\n",
    "driver.get(url)"
   ]
  },
  {
   "cell_type": "code",
   "execution_count": 10,
   "id": "62787b6b",
   "metadata": {},
   "outputs": [
    {
     "data": {
      "text/plain": [
       "<selenium.webdriver.remote.webelement.WebElement (session=\"3c7c8168a3d29dd9a7aaf79ce431b99c\", element=\"bd4d35ac-4453-4077-ae27-a6c6828d7609\")>"
      ]
     },
     "execution_count": 10,
     "metadata": {},
     "output_type": "execute_result"
    }
   ],
   "source": [
    "#find web element for search bar\n",
    "serch_tag= driver.find_element(By.XPATH, '/html/body/div[3]/div[9]/div[3]/div[1]/div[1]/div[1]/div[2]/form/div[2]/div[3]/div/input[1]')\n",
    "serch_tag"
   ]
  },
  {
   "cell_type": "code",
   "execution_count": 11,
   "id": "ddf7edda",
   "metadata": {},
   "outputs": [
    {
     "data": {
      "text/plain": [
       "<selenium.webdriver.remote.webelement.WebElement (session=\"3c7c8168a3d29dd9a7aaf79ce431b99c\", element=\"d77bc7eb-7580-4709-a6fc-a2ab023c82bd\")>"
      ]
     },
     "execution_count": 11,
     "metadata": {},
     "output_type": "execute_result"
    }
   ],
   "source": [
    "#find web element for search icon\n",
    "srch_icon=driver.find_element(By.XPATH, '/html/body/div[3]/div[9]/div[3]/div[1]/div[1]/div[1]/div[2]/div[1]/button')\n",
    "srch_icon"
   ]
  },
  {
   "cell_type": "code",
   "execution_count": 12,
   "id": "d5d40259",
   "metadata": {},
   "outputs": [
    {
     "name": "stdout",
     "output_type": "stream",
     "text": [
      "Enter a city name : \n",
      "delhi\n",
      "Entered City is :  delhi\n"
     ]
    }
   ],
   "source": [
    "#Taking input from user\n",
    "print(\"Enter a city name : \")\n",
    "abc=input()\n",
    "print(\"Entered City is : \",abc)"
   ]
  },
  {
   "cell_type": "code",
   "execution_count": 13,
   "id": "b9aa56f3",
   "metadata": {},
   "outputs": [],
   "source": [
    "serch_tag.send_keys(abc)"
   ]
  },
  {
   "cell_type": "code",
   "execution_count": 14,
   "id": "93c94338",
   "metadata": {},
   "outputs": [],
   "source": [
    "srch_icon.click()"
   ]
  },
  {
   "cell_type": "code",
   "execution_count": 15,
   "id": "4f281805",
   "metadata": {},
   "outputs": [],
   "source": [
    "url_string=driver.current_url"
   ]
  },
  {
   "cell_type": "code",
   "execution_count": 16,
   "id": "97b4b5ce",
   "metadata": {},
   "outputs": [
    {
     "name": "stdout",
     "output_type": "stream",
     "text": [
      " The latitude, longitude of the city is :  @28.692405,77.0881323,11z\n"
     ]
    }
   ],
   "source": [
    "print(\" The latitude, longitude of the city is : \",url_string.split('/')[6])"
   ]
  },
  {
   "cell_type": "markdown",
   "id": "12b8d818",
   "metadata": {},
   "source": [
    "Q6. Write a program to scrap details of all the funding deals for second quarter (i.e Jan 21 – March 21) \n",
    "from trak.in."
   ]
  },
  {
   "cell_type": "code",
   "execution_count": 17,
   "id": "01a8b341",
   "metadata": {},
   "outputs": [],
   "source": [
    "# getting the web page\n",
    "\n",
    "driver.get('https://trak.in/')"
   ]
  },
  {
   "cell_type": "code",
   "execution_count": 19,
   "id": "726eb525",
   "metadata": {},
   "outputs": [
    {
     "data": {
      "text/plain": [
       "<selenium.webdriver.remote.webelement.WebElement (session=\"3c7c8168a3d29dd9a7aaf79ce431b99c\", element=\"2411ba1e-7d96-4d46-87e4-44f0462c2188\")>"
      ]
     },
     "execution_count": 19,
     "metadata": {},
     "output_type": "execute_result"
    }
   ],
   "source": [
    "# finding the web element for Funding deal\n",
    "fund_deal_tag=driver.find_element(By.XPATH, '/html/body/header/div[3]/div/div/div[1]/nav/div[2]/div/ul/li[9]/a')\n",
    "fund_deal_tag"
   ]
  },
  {
   "cell_type": "code",
   "execution_count": 24,
   "id": "3692b603",
   "metadata": {},
   "outputs": [
    {
     "ename": "ElementClickInterceptedException",
     "evalue": "Message: element click intercepted: Element <a href=\"https://trak.in/stories/category/funding-deals/\" data-wpel-link=\"internal\">...</a> is not clickable at point (934, 219). Other element would receive the click: <div id=\"background_ovelay\" style=\"display: block;\"></div>\n  (Session info: chrome=109.0.5414.120)\nStacktrace:\nBacktrace:\n\t(No symbol) [0x004D6643]\n\t(No symbol) [0x0046BE21]\n\t(No symbol) [0x0036DA9D]\n\t(No symbol) [0x003A92B2]\n\t(No symbol) [0x003A6970]\n\t(No symbol) [0x003A3E0B]\n\t(No symbol) [0x003A2548]\n\t(No symbol) [0x00396B13]\n\t(No symbol) [0x003BFD7C]\n\t(No symbol) [0x0039641F]\n\t(No symbol) [0x003C00D4]\n\t(No symbol) [0x003D6B09]\n\t(No symbol) [0x003BFB76]\n\t(No symbol) [0x003949C1]\n\t(No symbol) [0x00395E5D]\n\tGetHandleVerifier [0x0074A142+2497106]\n\tGetHandleVerifier [0x007785D3+2686691]\n\tGetHandleVerifier [0x0077BB9C+2700460]\n\tGetHandleVerifier [0x00583B10+635936]\n\t(No symbol) [0x00474A1F]\n\t(No symbol) [0x0047A418]\n\t(No symbol) [0x0047A505]\n\t(No symbol) [0x0048508B]\n\tBaseThreadInitThunk [0x756300F9+25]\n\tRtlGetAppContainerNamedObjectPath [0x77727BBE+286]\n\tRtlGetAppContainerNamedObjectPath [0x77727B8E+238]\n",
     "output_type": "error",
     "traceback": [
      "\u001b[1;31m---------------------------------------------------------------------------\u001b[0m",
      "\u001b[1;31mElementClickInterceptedException\u001b[0m          Traceback (most recent call last)",
      "\u001b[1;32m<ipython-input-24-5cc172b937ca>\u001b[0m in \u001b[0;36m<module>\u001b[1;34m\u001b[0m\n\u001b[0;32m      4\u001b[0m \u001b[0mwait\u001b[0m\u001b[1;33m.\u001b[0m\u001b[0muntil\u001b[0m\u001b[1;33m(\u001b[0m\u001b[0mEC\u001b[0m\u001b[1;33m.\u001b[0m\u001b[0mvisibility_of\u001b[0m\u001b[1;33m(\u001b[0m\u001b[0mfund_deal_tag\u001b[0m\u001b[1;33m)\u001b[0m\u001b[1;33m)\u001b[0m\u001b[1;33m;\u001b[0m\u001b[1;33m\u001b[0m\u001b[1;33m\u001b[0m\u001b[0m\n\u001b[0;32m      5\u001b[0m \u001b[0mwait\u001b[0m\u001b[1;33m.\u001b[0m\u001b[0muntil\u001b[0m\u001b[1;33m(\u001b[0m\u001b[0mEC\u001b[0m\u001b[1;33m.\u001b[0m\u001b[0melement_to_be_clickable\u001b[0m\u001b[1;33m(\u001b[0m\u001b[0mfund_deal_tag\u001b[0m\u001b[1;33m)\u001b[0m\u001b[1;33m)\u001b[0m\u001b[1;33m;\u001b[0m\u001b[1;33m\u001b[0m\u001b[1;33m\u001b[0m\u001b[0m\n\u001b[1;32m----> 6\u001b[1;33m \u001b[0mfund_deal_tag\u001b[0m\u001b[1;33m.\u001b[0m\u001b[0mclick\u001b[0m\u001b[1;33m(\u001b[0m\u001b[1;33m)\u001b[0m\u001b[1;33m\u001b[0m\u001b[1;33m\u001b[0m\u001b[0m\n\u001b[0m",
      "\u001b[1;32m~\\anaconda3\\lib\\site-packages\\selenium\\webdriver\\remote\\webelement.py\u001b[0m in \u001b[0;36mclick\u001b[1;34m(self)\u001b[0m\n\u001b[0;32m     79\u001b[0m     \u001b[1;32mdef\u001b[0m \u001b[0mclick\u001b[0m\u001b[1;33m(\u001b[0m\u001b[0mself\u001b[0m\u001b[1;33m)\u001b[0m \u001b[1;33m->\u001b[0m \u001b[1;32mNone\u001b[0m\u001b[1;33m:\u001b[0m\u001b[1;33m\u001b[0m\u001b[1;33m\u001b[0m\u001b[0m\n\u001b[0;32m     80\u001b[0m         \u001b[1;34m\"\"\"Clicks the element.\"\"\"\u001b[0m\u001b[1;33m\u001b[0m\u001b[1;33m\u001b[0m\u001b[0m\n\u001b[1;32m---> 81\u001b[1;33m         \u001b[0mself\u001b[0m\u001b[1;33m.\u001b[0m\u001b[0m_execute\u001b[0m\u001b[1;33m(\u001b[0m\u001b[0mCommand\u001b[0m\u001b[1;33m.\u001b[0m\u001b[0mCLICK_ELEMENT\u001b[0m\u001b[1;33m)\u001b[0m\u001b[1;33m\u001b[0m\u001b[1;33m\u001b[0m\u001b[0m\n\u001b[0m\u001b[0;32m     82\u001b[0m \u001b[1;33m\u001b[0m\u001b[0m\n\u001b[0;32m     83\u001b[0m     \u001b[1;32mdef\u001b[0m \u001b[0msubmit\u001b[0m\u001b[1;33m(\u001b[0m\u001b[0mself\u001b[0m\u001b[1;33m)\u001b[0m\u001b[1;33m:\u001b[0m\u001b[1;33m\u001b[0m\u001b[1;33m\u001b[0m\u001b[0m\n",
      "\u001b[1;32m~\\anaconda3\\lib\\site-packages\\selenium\\webdriver\\remote\\webelement.py\u001b[0m in \u001b[0;36m_execute\u001b[1;34m(self, command, params)\u001b[0m\n\u001b[0;32m    708\u001b[0m             \u001b[0mparams\u001b[0m \u001b[1;33m=\u001b[0m \u001b[1;33m{\u001b[0m\u001b[1;33m}\u001b[0m\u001b[1;33m\u001b[0m\u001b[1;33m\u001b[0m\u001b[0m\n\u001b[0;32m    709\u001b[0m         \u001b[0mparams\u001b[0m\u001b[1;33m[\u001b[0m\u001b[1;34m'id'\u001b[0m\u001b[1;33m]\u001b[0m \u001b[1;33m=\u001b[0m \u001b[0mself\u001b[0m\u001b[1;33m.\u001b[0m\u001b[0m_id\u001b[0m\u001b[1;33m\u001b[0m\u001b[1;33m\u001b[0m\u001b[0m\n\u001b[1;32m--> 710\u001b[1;33m         \u001b[1;32mreturn\u001b[0m \u001b[0mself\u001b[0m\u001b[1;33m.\u001b[0m\u001b[0m_parent\u001b[0m\u001b[1;33m.\u001b[0m\u001b[0mexecute\u001b[0m\u001b[1;33m(\u001b[0m\u001b[0mcommand\u001b[0m\u001b[1;33m,\u001b[0m \u001b[0mparams\u001b[0m\u001b[1;33m)\u001b[0m\u001b[1;33m\u001b[0m\u001b[1;33m\u001b[0m\u001b[0m\n\u001b[0m\u001b[0;32m    711\u001b[0m \u001b[1;33m\u001b[0m\u001b[0m\n\u001b[0;32m    712\u001b[0m     \u001b[1;32mdef\u001b[0m \u001b[0mfind_element\u001b[0m\u001b[1;33m(\u001b[0m\u001b[0mself\u001b[0m\u001b[1;33m,\u001b[0m \u001b[0mby\u001b[0m\u001b[1;33m=\u001b[0m\u001b[0mBy\u001b[0m\u001b[1;33m.\u001b[0m\u001b[0mID\u001b[0m\u001b[1;33m,\u001b[0m \u001b[0mvalue\u001b[0m\u001b[1;33m=\u001b[0m\u001b[1;32mNone\u001b[0m\u001b[1;33m)\u001b[0m\u001b[1;33m:\u001b[0m\u001b[1;33m\u001b[0m\u001b[1;33m\u001b[0m\u001b[0m\n",
      "\u001b[1;32m~\\anaconda3\\lib\\site-packages\\selenium\\webdriver\\remote\\webdriver.py\u001b[0m in \u001b[0;36mexecute\u001b[1;34m(self, driver_command, params)\u001b[0m\n\u001b[0;32m    423\u001b[0m         \u001b[0mresponse\u001b[0m \u001b[1;33m=\u001b[0m \u001b[0mself\u001b[0m\u001b[1;33m.\u001b[0m\u001b[0mcommand_executor\u001b[0m\u001b[1;33m.\u001b[0m\u001b[0mexecute\u001b[0m\u001b[1;33m(\u001b[0m\u001b[0mdriver_command\u001b[0m\u001b[1;33m,\u001b[0m \u001b[0mparams\u001b[0m\u001b[1;33m)\u001b[0m\u001b[1;33m\u001b[0m\u001b[1;33m\u001b[0m\u001b[0m\n\u001b[0;32m    424\u001b[0m         \u001b[1;32mif\u001b[0m \u001b[0mresponse\u001b[0m\u001b[1;33m:\u001b[0m\u001b[1;33m\u001b[0m\u001b[1;33m\u001b[0m\u001b[0m\n\u001b[1;32m--> 425\u001b[1;33m             \u001b[0mself\u001b[0m\u001b[1;33m.\u001b[0m\u001b[0merror_handler\u001b[0m\u001b[1;33m.\u001b[0m\u001b[0mcheck_response\u001b[0m\u001b[1;33m(\u001b[0m\u001b[0mresponse\u001b[0m\u001b[1;33m)\u001b[0m\u001b[1;33m\u001b[0m\u001b[1;33m\u001b[0m\u001b[0m\n\u001b[0m\u001b[0;32m    426\u001b[0m             response['value'] = self._unwrap_value(\n\u001b[0;32m    427\u001b[0m                 response.get('value', None))\n",
      "\u001b[1;32m~\\anaconda3\\lib\\site-packages\\selenium\\webdriver\\remote\\errorhandler.py\u001b[0m in \u001b[0;36mcheck_response\u001b[1;34m(self, response)\u001b[0m\n\u001b[0;32m    245\u001b[0m                 \u001b[0malert_text\u001b[0m \u001b[1;33m=\u001b[0m \u001b[0mvalue\u001b[0m\u001b[1;33m[\u001b[0m\u001b[1;34m'alert'\u001b[0m\u001b[1;33m]\u001b[0m\u001b[1;33m.\u001b[0m\u001b[0mget\u001b[0m\u001b[1;33m(\u001b[0m\u001b[1;34m'text'\u001b[0m\u001b[1;33m)\u001b[0m\u001b[1;33m\u001b[0m\u001b[1;33m\u001b[0m\u001b[0m\n\u001b[0;32m    246\u001b[0m             \u001b[1;32mraise\u001b[0m \u001b[0mexception_class\u001b[0m\u001b[1;33m(\u001b[0m\u001b[0mmessage\u001b[0m\u001b[1;33m,\u001b[0m \u001b[0mscreen\u001b[0m\u001b[1;33m,\u001b[0m \u001b[0mstacktrace\u001b[0m\u001b[1;33m,\u001b[0m \u001b[0malert_text\u001b[0m\u001b[1;33m)\u001b[0m  \u001b[1;31m# type: ignore[call-arg]  # mypy is not smart enough here\u001b[0m\u001b[1;33m\u001b[0m\u001b[1;33m\u001b[0m\u001b[0m\n\u001b[1;32m--> 247\u001b[1;33m         \u001b[1;32mraise\u001b[0m \u001b[0mexception_class\u001b[0m\u001b[1;33m(\u001b[0m\u001b[0mmessage\u001b[0m\u001b[1;33m,\u001b[0m \u001b[0mscreen\u001b[0m\u001b[1;33m,\u001b[0m \u001b[0mstacktrace\u001b[0m\u001b[1;33m)\u001b[0m\u001b[1;33m\u001b[0m\u001b[1;33m\u001b[0m\u001b[0m\n\u001b[0m\u001b[0;32m    248\u001b[0m \u001b[1;33m\u001b[0m\u001b[0m\n\u001b[0;32m    249\u001b[0m     \u001b[1;32mdef\u001b[0m \u001b[0m_value_or_default\u001b[0m\u001b[1;33m(\u001b[0m\u001b[0mself\u001b[0m\u001b[1;33m,\u001b[0m \u001b[0mobj\u001b[0m\u001b[1;33m:\u001b[0m \u001b[0mMapping\u001b[0m\u001b[1;33m[\u001b[0m\u001b[0m_KT\u001b[0m\u001b[1;33m,\u001b[0m \u001b[0m_VT\u001b[0m\u001b[1;33m]\u001b[0m\u001b[1;33m,\u001b[0m \u001b[0mkey\u001b[0m\u001b[1;33m:\u001b[0m \u001b[0m_KT\u001b[0m\u001b[1;33m,\u001b[0m \u001b[0mdefault\u001b[0m\u001b[1;33m:\u001b[0m \u001b[0m_VT\u001b[0m\u001b[1;33m)\u001b[0m \u001b[1;33m->\u001b[0m \u001b[0m_VT\u001b[0m\u001b[1;33m:\u001b[0m\u001b[1;33m\u001b[0m\u001b[1;33m\u001b[0m\u001b[0m\n",
      "\u001b[1;31mElementClickInterceptedException\u001b[0m: Message: element click intercepted: Element <a href=\"https://trak.in/stories/category/funding-deals/\" data-wpel-link=\"internal\">...</a> is not clickable at point (934, 219). Other element would receive the click: <div id=\"background_ovelay\" style=\"display: block;\"></div>\n  (Session info: chrome=109.0.5414.120)\nStacktrace:\nBacktrace:\n\t(No symbol) [0x004D6643]\n\t(No symbol) [0x0046BE21]\n\t(No symbol) [0x0036DA9D]\n\t(No symbol) [0x003A92B2]\n\t(No symbol) [0x003A6970]\n\t(No symbol) [0x003A3E0B]\n\t(No symbol) [0x003A2548]\n\t(No symbol) [0x00396B13]\n\t(No symbol) [0x003BFD7C]\n\t(No symbol) [0x0039641F]\n\t(No symbol) [0x003C00D4]\n\t(No symbol) [0x003D6B09]\n\t(No symbol) [0x003BFB76]\n\t(No symbol) [0x003949C1]\n\t(No symbol) [0x00395E5D]\n\tGetHandleVerifier [0x0074A142+2497106]\n\tGetHandleVerifier [0x007785D3+2686691]\n\tGetHandleVerifier [0x0077BB9C+2700460]\n\tGetHandleVerifier [0x00583B10+635936]\n\t(No symbol) [0x00474A1F]\n\t(No symbol) [0x0047A418]\n\t(No symbol) [0x0047A505]\n\t(No symbol) [0x0048508B]\n\tBaseThreadInitThunk [0x756300F9+25]\n\tRtlGetAppContainerNamedObjectPath [0x77727BBE+286]\n\tRtlGetAppContainerNamedObjectPath [0x77727B8E+238]\n"
     ]
    }
   ],
   "source": [
    "#clicking on funding deal\n",
    "timeout=5\n",
    "wait = WebDriverWait(driver, timeout);\n",
    "wait.until(EC.visibility_of(fund_deal_tag)); \n",
    "wait.until(EC.element_to_be_clickable(fund_deal_tag));\n",
    "fund_deal_tag.click()"
   ]
  },
  {
   "cell_type": "code",
   "execution_count": 21,
   "id": "11273e90",
   "metadata": {},
   "outputs": [
    {
     "data": {
      "text/plain": [
       "0"
      ]
     },
     "execution_count": 21,
     "metadata": {},
     "output_type": "execute_result"
    }
   ],
   "source": [
    "#scraping Details from the page between Jan 2021 to March 2021. Starting with startup name\n",
    "startup_name=[]\n",
    "start_tag=driver.find_elements(By.XPATH, '//td[@class=\"column-3\"]')[5:29]\n",
    "for i in start_tag:\n",
    "    startup_name.append(i.text)\n",
    "len(startup_name)"
   ]
  },
  {
   "cell_type": "code",
   "execution_count": 22,
   "id": "0be79c4b",
   "metadata": {},
   "outputs": [
    {
     "data": {
      "text/plain": [
       "0"
      ]
     },
     "execution_count": 22,
     "metadata": {},
     "output_type": "execute_result"
    }
   ],
   "source": [
    "#scraping date\n",
    "date=[]\n",
    "date_tag=driver.find_elements(By.XPATH, '//td[@class=\"column-2\"]')[5:29]\n",
    "for i in date_tag:\n",
    "    date.append(i.text)\n",
    "len(date)"
   ]
  },
  {
   "cell_type": "code",
   "execution_count": 27,
   "id": "3cb82c3c",
   "metadata": {},
   "outputs": [
    {
     "data": {
      "text/plain": [
       "0"
      ]
     },
     "execution_count": 27,
     "metadata": {},
     "output_type": "execute_result"
    }
   ],
   "source": [
    "#scraping Industry\n",
    "industry=[]\n",
    "industry_tag=driver.find_elements(By.XPATH, '//td[@class=\"column-4\"]')[5:29]\n",
    "for i in industry_tag:\n",
    "    industry.append(i.text)\n",
    "len(industry)"
   ]
  },
  {
   "cell_type": "code",
   "execution_count": 26,
   "id": "b59b7301",
   "metadata": {},
   "outputs": [
    {
     "data": {
      "text/plain": [
       "0"
      ]
     },
     "execution_count": 26,
     "metadata": {},
     "output_type": "execute_result"
    }
   ],
   "source": [
    "#Scraping Sb Vertical column\n",
    "sub_vertical=[]\n",
    "sub_tag=driver.find_elements(By.XPATH, '//td[@class=\"column-5\"]')[5:29]\n",
    "for i in sub_tag:\n",
    "    sub_vertical.append(i.text)\n",
    "len(sub_vertical)"
   ]
  },
  {
   "cell_type": "code",
   "execution_count": 28,
   "id": "1f028008",
   "metadata": {},
   "outputs": [
    {
     "data": {
      "text/plain": [
       "0"
      ]
     },
     "execution_count": 28,
     "metadata": {},
     "output_type": "execute_result"
    }
   ],
   "source": [
    "#Scraping Location\n",
    "locatn=[]\n",
    "city_tag=driver.find_elements(By.XPATH, '//td[@class=\"column-6\"]')[5:29]\n",
    "for i in city_tag:\n",
    "    locatn.append(i.text)\n",
    "len(locatn)"
   ]
  },
  {
   "cell_type": "code",
   "execution_count": 29,
   "id": "60a4f45b",
   "metadata": {},
   "outputs": [
    {
     "data": {
      "text/plain": [
       "0"
      ]
     },
     "execution_count": 29,
     "metadata": {},
     "output_type": "execute_result"
    }
   ],
   "source": [
    "#scraping Investor's name\n",
    "invest_name=[]\n",
    "invest_nm_tag=driver.find_elements(By.XPATH, '//td[@class=\"column-7\"]')[5:29]\n",
    "for i in invest_nm_tag:\n",
    "    invest_name.append(i.text)\n",
    "len(invest_name)"
   ]
  },
  {
   "cell_type": "code",
   "execution_count": 30,
   "id": "55d59ff6",
   "metadata": {},
   "outputs": [
    {
     "data": {
      "text/plain": [
       "0"
      ]
     },
     "execution_count": 30,
     "metadata": {},
     "output_type": "execute_result"
    }
   ],
   "source": [
    "#Scraping Investmen Type\n",
    "invest_type=[]\n",
    "type_tag=driver.find_elements(By.XPATH, '//td[@class=\"column-8\"]')[5:29]\n",
    "for i in type_tag:\n",
    "    invest_type.append(i.text)\n",
    "len(invest_type)"
   ]
  },
  {
   "cell_type": "code",
   "execution_count": 31,
   "id": "2f8a0189",
   "metadata": {},
   "outputs": [
    {
     "data": {
      "text/plain": [
       "0"
      ]
     },
     "execution_count": 31,
     "metadata": {},
     "output_type": "execute_result"
    }
   ],
   "source": [
    "#Scraping the Amount\n",
    "amount=[]\n",
    "amnt_tag=driver.find_elements(By.XPATH, '//td[@class=\"column-9\"]')[5:29]\n",
    "for i in amnt_tag:\n",
    "    amount.append(i.text)\n",
    "len(amount)"
   ]
  },
  {
   "cell_type": "code",
   "execution_count": 32,
   "id": "31963a2f",
   "metadata": {},
   "outputs": [
    {
     "name": "stdout",
     "output_type": "stream",
     "text": [
      "Details of all the funding deals for second quarter (i.e Jan 21 – March 21) from trak.in\n"
     ]
    },
    {
     "data": {
      "text/html": [
       "<div>\n",
       "<style scoped>\n",
       "    .dataframe tbody tr th:only-of-type {\n",
       "        vertical-align: middle;\n",
       "    }\n",
       "\n",
       "    .dataframe tbody tr th {\n",
       "        vertical-align: top;\n",
       "    }\n",
       "\n",
       "    .dataframe thead th {\n",
       "        text-align: right;\n",
       "    }\n",
       "</style>\n",
       "<table border=\"1\" class=\"dataframe\">\n",
       "  <thead>\n",
       "    <tr style=\"text-align: right;\">\n",
       "      <th></th>\n",
       "      <th>Date (dd/mm/yyyy)</th>\n",
       "      <th>StartUp Name</th>\n",
       "      <th>Industry</th>\n",
       "      <th>Sub Vertical</th>\n",
       "      <th>Location/City</th>\n",
       "      <th>Investors Name</th>\n",
       "      <th>Investment Type</th>\n",
       "      <th>Amount (USD)</th>\n",
       "    </tr>\n",
       "  </thead>\n",
       "  <tbody>\n",
       "  </tbody>\n",
       "</table>\n",
       "</div>"
      ],
      "text/plain": [
       "Empty DataFrame\n",
       "Columns: [Date (dd/mm/yyyy), StartUp Name, Industry, Sub Vertical, Location/City, Investors Name, Investment Type, Amount (USD)]\n",
       "Index: []"
      ]
     },
     "execution_count": 32,
     "metadata": {},
     "output_type": "execute_result"
    }
   ],
   "source": [
    "#preparing the data frame for Jan-March 2021 data\n",
    "\n",
    "fund_deal=pd.DataFrame({'Date (dd/mm/yyyy)':date, 'StartUp Name':startup_name,\n",
    "                       'Industry':industry, 'Sub Vertical':sub_vertical, 'Location/City':locatn,\n",
    "                       'Investors Name':invest_name, 'Investment Type': invest_type, 'Amount (USD)': amount})\n",
    "print(\"Details of all the funding deals for second quarter (i.e Jan 21 – March 21) from trak.in\")\n",
    "\n",
    "fund_deal"
   ]
  },
  {
   "cell_type": "markdown",
   "id": "820661da",
   "metadata": {},
   "source": [
    "Q7. Write a program to scrap all the available details of best gaming laptops from digit.in."
   ]
  },
  {
   "cell_type": "code",
   "execution_count": 34,
   "id": "68fd3c72",
   "metadata": {},
   "outputs": [],
   "source": [
    "#getting the web page\n",
    "driver.get(\"https://www.digit.in/laptops/\")"
   ]
  },
  {
   "cell_type": "code",
   "execution_count": 35,
   "id": "f98efd23",
   "metadata": {},
   "outputs": [],
   "source": [
    "#Scraping Details Of Laptops\n",
    "laptop_name=[]\n",
    "\n",
    "laptop_tag=driver.find_elements(By.XPATH,'/html/body/div[5]/div[1]/div[3]/table/tbody/tr[1]/td[1]' )\n",
    "for i in laptop_tag:\n",
    "    laptop_name.append(i.text)\n",
    "laptop_tag=driver.find_elements(By.XPATH,'/html/body/div[5]/div[1]/div[3]/table/tbody/tr[2]/td[1]' )\n",
    "for i in laptop_tag:\n",
    "    laptop_name.append(i.text)\n",
    "laptop_tag=driver.find_elements(By.XPATH,'/html/body/div[5]/div[1]/div[3]/table/tbody/tr[3]/td[1]' )\n",
    "for i in laptop_tag:\n",
    "    laptop_name.append(i.text)\n",
    "laptop_tag=driver.find_elements(By.XPATH,'/html/body/div[5]/div[1]/div[3]/table/tbody/tr[4]/td[1]' )\n",
    "for i in laptop_tag:\n",
    "    laptop_name.append(i.text)\n",
    "laptop_tag=driver.find_elements(By.XPATH,'/html/body/div[5]/div[1]/div[3]/table/tbody/tr[5]/td[1]' )\n",
    "for i in laptop_tag:\n",
    "    laptop_name.append(i.text)\n",
    "laptop_tag=driver.find_elements(By.XPATH,'/html/body/div[5]/div[1]/div[3]/table/tbody/tr[6]/td[1]' )\n",
    "for i in laptop_tag:\n",
    "    laptop_name.append(i.text)\n",
    "laptop_tag=driver.find_elements(By.XPATH,'/html/body/div[5]/div[1]/div[3]/table/tbody/tr[7]/td[1]' )\n",
    "for i in laptop_tag:\n",
    "    laptop_name.append(i.text)\n",
    "laptop_tag=driver.find_elements(By.XPATH,'/html/body/div[5]/div[1]/div[3]/table/tbody/tr[8]/td[1]' )\n",
    "for i in laptop_tag:\n",
    "    laptop_name.append(i.text)\n",
    "laptop_tag=driver.find_elements(By.XPATH,'/html/body/div[5]/div[1]/div[3]/table/tbody/tr[9]/td[1]' )\n",
    "for i in laptop_tag:\n",
    "    laptop_name.append(i.text)\n",
    "laptop_tag=driver.find_elements(By.XPATH,'/html/body/div[5]/div[1]/div[3]/table/tbody/tr[10]/td[1]' )\n",
    "for i in laptop_tag:\n",
    "    laptop_name.append(i.text)"
   ]
  },
  {
   "cell_type": "code",
   "execution_count": 36,
   "id": "ab92f96f",
   "metadata": {},
   "outputs": [
    {
     "data": {
      "text/plain": [
       "[]"
      ]
     },
     "execution_count": 36,
     "metadata": {},
     "output_type": "execute_result"
    }
   ],
   "source": [
    "laptop_name"
   ]
  },
  {
   "cell_type": "code",
   "execution_count": 37,
   "id": "0ba0a83c",
   "metadata": {},
   "outputs": [
    {
     "data": {
      "text/plain": [
       "[]"
      ]
     },
     "execution_count": 37,
     "metadata": {},
     "output_type": "execute_result"
    }
   ],
   "source": [
    "#scraping seller details\n",
    "seller=[]\n",
    "sel_tag=driver.find_elements(By.XPATH, '//td[@class=\"smmerchant\"]')\n",
    "for i in sel_tag:\n",
    "    seller.append(i.text)\n",
    "seller"
   ]
  },
  {
   "cell_type": "code",
   "execution_count": 38,
   "id": "e4f802b6",
   "metadata": {},
   "outputs": [
    {
     "data": {
      "text/plain": [
       "[]"
      ]
     },
     "execution_count": 38,
     "metadata": {},
     "output_type": "execute_result"
    }
   ],
   "source": [
    "#scraping price details\n",
    "price=[]\n",
    "prc_tag=driver.find_elements(By.XPATH, '//td[@class=\"smprice\"]')\n",
    "for i in prc_tag:\n",
    "    price.append(i.text)\n",
    "price"
   ]
  },
  {
   "cell_type": "code",
   "execution_count": 39,
   "id": "8e8a455e",
   "metadata": {},
   "outputs": [
    {
     "data": {
      "text/plain": [
       "(0, 0, 0)"
      ]
     },
     "execution_count": 39,
     "metadata": {},
     "output_type": "execute_result"
    }
   ],
   "source": [
    "#checking length of each column\n",
    "len(laptop_name),len(seller), len(price)"
   ]
  },
  {
   "cell_type": "code",
   "execution_count": 40,
   "id": "eb9f6d46",
   "metadata": {},
   "outputs": [
    {
     "name": "stdout",
     "output_type": "stream",
     "text": [
      "List Of Best Gaming Laptops In India (Jul 2022)\n"
     ]
    },
    {
     "data": {
      "text/html": [
       "<div>\n",
       "<style scoped>\n",
       "    .dataframe tbody tr th:only-of-type {\n",
       "        vertical-align: middle;\n",
       "    }\n",
       "\n",
       "    .dataframe tbody tr th {\n",
       "        vertical-align: top;\n",
       "    }\n",
       "\n",
       "    .dataframe thead th {\n",
       "        text-align: right;\n",
       "    }\n",
       "</style>\n",
       "<table border=\"1\" class=\"dataframe\">\n",
       "  <thead>\n",
       "    <tr style=\"text-align: right;\">\n",
       "      <th></th>\n",
       "      <th>Product Name</th>\n",
       "      <th>Seller</th>\n",
       "      <th>Price</th>\n",
       "    </tr>\n",
       "  </thead>\n",
       "  <tbody>\n",
       "  </tbody>\n",
       "</table>\n",
       "</div>"
      ],
      "text/plain": [
       "Empty DataFrame\n",
       "Columns: [Product Name, Seller, Price]\n",
       "Index: []"
      ]
     },
     "execution_count": 40,
     "metadata": {},
     "output_type": "execute_result"
    }
   ],
   "source": [
    "#preparing the DataFrame\n",
    "laptop=pd.DataFrame({'Product Name':laptop_name, 'Seller': seller, 'Price':price })\n",
    "print(\"List Of Best Gaming Laptops In India (Jul 2022)\")\n",
    "laptop"
   ]
  },
  {
   "cell_type": "code",
   "execution_count": null,
   "id": "e84683a2",
   "metadata": {},
   "outputs": [],
   "source": []
  }
 ],
 "metadata": {
  "kernelspec": {
   "display_name": "Python 3",
   "language": "python",
   "name": "python3"
  },
  "language_info": {
   "codemirror_mode": {
    "name": "ipython",
    "version": 3
   },
   "file_extension": ".py",
   "mimetype": "text/x-python",
   "name": "python",
   "nbconvert_exporter": "python",
   "pygments_lexer": "ipython3",
   "version": "3.8.8"
  }
 },
 "nbformat": 4,
 "nbformat_minor": 5
}
